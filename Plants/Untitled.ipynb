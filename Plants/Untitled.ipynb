{
 "cells": [
  {
   "cell_type": "code",
   "execution_count": 1,
   "id": "42a3af9c-6fbb-4f68-a91d-0e52a9827bab",
   "metadata": {
    "tags": []
   },
   "outputs": [],
   "source": [
    "import requests\n",
    "import json\n",
    "import pandas as pd\n",
    "from bs4 import BeautifulSoup as bs\n",
    "import selenium\n",
    "from selenium import webdriver\n",
    "from selenium.webdriver.chrome.service import Service\n",
    "from selenium.webdriver.support.ui import WebDriverWait\n",
    "from selenium.webdriver.support import expected_conditions as EC\n",
    "from selenium.webdriver.common.by import By\n",
    "from selenium.webdriver.common.action_chains import ActionChains"
   ]
  },
  {
   "cell_type": "code",
   "execution_count": 2,
   "id": "8dbca888-0608-43a6-b55b-d290aba92d8c",
   "metadata": {
    "tags": []
   },
   "outputs": [],
   "source": [
    "base_url = 'https://www.treesandshrubsonline.org'"
   ]
  },
  {
   "cell_type": "code",
   "execution_count": 3,
   "id": "73bf532e-1262-4068-b2f6-55da4467b599",
   "metadata": {
    "tags": []
   },
   "outputs": [],
   "source": [
    "service = Service()\n",
    "options = webdriver.ChromeOptions()\n",
    "driver = webdriver.Chrome(service=service, options=options)\n",
    "driver.get(base_url)\n",
    "driver.maximize_window()"
   ]
  },
  {
   "cell_type": "code",
   "execution_count": null,
   "id": "8105364a-06d1-4004-85f3-3e0e5547a9c0",
   "metadata": {},
   "outputs": [],
   "source": []
  },
  {
   "cell_type": "code",
   "execution_count": 4,
   "id": "690cf1f3-7b84-4651-8c9d-4c56e5fadf86",
   "metadata": {
    "tags": []
   },
   "outputs": [],
   "source": [
    "letters_index = ['a', 'b', 'c', 'd', 'e', 'f', 'g', 'h', 'i', 'j', 'k', 'l', 'm', 'n', 'o', 'p', 'q', 'r', 's', 't', 'u', 'v', 'w', 'x', 'y', 'z']"
   ]
  },
  {
   "cell_type": "code",
   "execution_count": 6,
   "id": "4798ae63-9a87-49cb-9547-92ff60d43370",
   "metadata": {
    "tags": []
   },
   "outputs": [
    {
     "name": "stdout",
     "output_type": "stream",
     "text": [
      "https://www.treesandshrubsonline.org/articles/a/\n"
     ]
    }
   ],
   "source": [
    "for letter in letters_index:\n",
    "    \n",
    "    letter_url = base_url + '/articles/' + letter + '/'\n",
    "    print(letter_url)\n",
    "    \n",
    "    driver.get(letter_url)\n",
    "    \n",
    "    html = driver.page_source\n",
    "    soup = bs(html, 'html.parser')\n",
    "    \n",
    "    all_links = soup.find_all('a', class_='ids-browse-link')\n",
    "    #li_list = soup.find('ul', class_='uk-accordion').find_all('li')\n",
    "    \n",
    "    break"
   ]
  },
  {
   "cell_type": "code",
   "execution_count": null,
   "id": "ad4e75e7-4c8e-4bb4-acfc-6d9da8974163",
   "metadata": {},
   "outputs": [],
   "source": []
  },
  {
   "cell_type": "code",
   "execution_count": 7,
   "id": "39b68340-2b44-4bfe-8816-456498724b36",
   "metadata": {
    "tags": []
   },
   "outputs": [],
   "source": [
    "df_plants = pd.DataFrame(columns=['plant_tree', 'text', 'credits', 'familiy'])"
   ]
  },
  {
   "cell_type": "code",
   "execution_count": 8,
   "id": "f3be90ab-fcf7-42b9-b416-b5167750a050",
   "metadata": {
    "tags": []
   },
   "outputs": [
    {
     "data": {
      "text/plain": [
       "1235"
      ]
     },
     "execution_count": 8,
     "metadata": {},
     "output_type": "execute_result"
    }
   ],
   "source": [
    "len(all_links)"
   ]
  },
  {
   "cell_type": "code",
   "execution_count": null,
   "id": "26e8816e-a3af-4ec4-83ac-b7567d897c11",
   "metadata": {},
   "outputs": [],
   "source": []
  },
  {
   "cell_type": "code",
   "execution_count": 9,
   "id": "30b5ac4b-b5cd-4a3e-b02f-1f4569c5c63c",
   "metadata": {
    "tags": []
   },
   "outputs": [
    {
     "name": "stdout",
     "output_type": "stream",
     "text": [
      "https://www.treesandshrubsonline.org/articles/abelia/abelia-x-grandiflora/#17572\n"
     ]
    }
   ],
   "source": [
    "print(base_url+all_links[25]['href'])\n",
    "driver.get(base_url+all_links[25]['href'])\n",
    "html = driver.page_source\n",
    "soup = bs(html, 'html.parser')"
   ]
  },
  {
   "cell_type": "code",
   "execution_count": 82,
   "id": "eb15b6eb-98cc-4640-b0a6-2bf05e0b9e1e",
   "metadata": {
    "tags": []
   },
   "outputs": [],
   "source": [
    "element = driver.find_element(By.XPATH, '/html/body/div/div[2]/div/div[2]/div[1]/div[2]/div')"
   ]
  },
  {
   "cell_type": "code",
   "execution_count": 83,
   "id": "176f7be7-e821-44ec-812d-8f36affe6350",
   "metadata": {
    "tags": []
   },
   "outputs": [
    {
     "name": "stdout",
     "output_type": "stream",
     "text": [
      "Credits\n",
      "Owen Johnson (2021)\n",
      "Recommended citation\n",
      "Johnson, O. (2021), 'Abelia × grandiflora' from the website Trees and Shrubs Online (treesandshrubsonline.org/articles/abelia/abelia-x-grandiflora/). Accessed 2023-10-16.\n"
     ]
    }
   ],
   "source": [
    "print(element.text)"
   ]
  },
  {
   "cell_type": "code",
   "execution_count": 84,
   "id": "5bc4858c-9a66-44da-9902-b5bb620be865",
   "metadata": {
    "tags": []
   },
   "outputs": [],
   "source": [
    "element_main = driver.find_element(By.XPATH, '/html/body/div/div[2]/div/div[2]/div[3]')"
   ]
  },
  {
   "cell_type": "code",
   "execution_count": 91,
   "id": "777e02a2-eae6-4072-804e-e73c04b9f8c9",
   "metadata": {
    "collapsed": true,
    "jupyter": {
     "outputs_hidden": true
    },
    "tags": []
   },
   "outputs": [
    {
     "data": {
      "text/plain": [
       "[<div class=\"uk-width-1-1 uk-margin-top uk-first-column\"><h1><i>Abelia</i> × <i>grandiflora</i> <span class=\"authors\">(Rovelli ex André) Rehd.</span></h1></div>,\n",
       " <div class=\"uk-width-1-1 uk-width-1-4@l tso-col-left uk-first-column\"><div class=\"uk-card uk-card-small uk-card-default uk-card-body uk-margin-bottom tso-sponsors\"><p class=\"uk-margin-small-bottom\"><img alt=\"TSO logo\" src=\"/site/templates/images/tso-logo.svg\"/></p><h2 class=\"uk-margin-remove-top\">Sponsor</h2><p>Kindly sponsored by<br/><b>The Normanby Charitable Trust</b></p><p></p></div><div class=\"uk-visible@l tso-credits\"><div class=\"uk-card uk-card-small uk-card-default uk-card-body uk-margin-bottom\"><h2>Credits</h2><p>Owen Johnson (2021)</p><p><b>Recommended citation</b><br/>Johnson, O. (2021), <i>'Abelia</i> × <i>grandiflora'</i> from the website <i>Trees and Shrubs Online</i> (treesandshrubsonline.<wbr/>org/<wbr/>articles/<wbr/>abelia/<wbr/>abelia-x-grandiflora/<wbr/>). Accessed 2023-10-16.</p></div></div></div>,\n",
       " <div class=\"uk-width-1-1 uk-width-1-4@l uk-flex-last@l tso-col-right\"><div class=\"uk-margin-remove-first-child\"><div><h3 class=\"uk-margin-remove-top\">Genus</h3><ul class=\"uk-list ids-list-small\"><li><a href=\"/articles/abelia/\"><i>Abelia</i></a></li></ul></div><div><h3>Common Names</h3><ul class=\"uk-list ids-list-small\"><li>Common Abelia</li></ul></div><div><h3>Synonyms</h3><ul class=\"uk-list ids-list-small\"><li><i>Abelia rupestris grandiflora</i> André</li><li><i>Abelia chinensis</i> Hort., not R. Br.</li><li><i>Abelia rupestris</i> Hort.</li><li><i>Linnaea</i> × <i>grandiflora</i> (Rovelli ex André) Christenh.</li></ul></div></div><div class=\"uk-grid-small uk-child-width-1-2 uk-child-width-1-4@m uk-child-width-1-1@l uk-grid uk-grid-stack\" uk-grid=\"\"><div class=\"uk-first-column\"><div class=\"uk-visible@l\"><button class=\"uk-button uk-button-default\" href=\"#toggle-species\" type=\"button\" uk-toggle=\"target: #toggle-species; animation: uk-animation-fade\">Species Links</button><div class=\"uk-margin-top\" hidden=\"\" id=\"toggle-species\"><div><h3>Infraspecifics</h3><ul class=\"uk-list ids-list-small\"><li><a href=\"/articles/abelia/abelia-x-grandiflora/#17609\"> 'Abelops'</a></li><li><a href=\"/articles/abelia/abelia-x-grandiflora/#17586\"> 'Abghop'</a></li><li><a href=\"/articles/abelia/abelia-x-grandiflora/#17579\"> 'Abhfgold'</a></li><li><a href=\"/articles/abelia/abelia-x-grandiflora/#17582\"> 'Brmgold'</a></li><li><a href=\"/articles/abelia/abelia-x-grandiflora/#17571\"> 'Brockhill Allgold'</a></li><li><a href=\"/articles/abelia/abelia-x-grandiflora/#17572\"> 'Canyon Creek'</a></li><li><a href=\"/articles/abelia/abelia-x-grandiflora/#17574\"> 'Cloud 99'</a></li><li><a href=\"/articles/abelia/abelia-x-grandiflora/#17575\"> 'Compacta'</a></li><li><a href=\"/articles/abelia/abelia-x-grandiflora/#17576\"> 'Conti'</a></li><li><a href=\"/articles/abelia/abelia-x-grandiflora/#17613\"> 'Copper Glow'</a></li><li><a href=\"/articles/abelia/abelia-x-grandiflora/#17577\"> 'Flat Creek'</a></li><li><a href=\"/articles/abelia/abelia-x-grandiflora/#17578\"> 'Francis Mason'</a></li><li><a href=\"/articles/abelia/abelia-x-grandiflora/#17581\"> 'Gold Spot'</a></li><li><a href=\"/articles/abelia/abelia-x-grandiflora/#17585\"> 'Golden Glow'</a></li><li><a href=\"/articles/abelia/abelia-x-grandiflora/#17580\"> 'Goldenglossy'</a></li><li><a href=\"/articles/abelia/abelia-x-grandiflora/#17587\"> 'John Creech'</a></li><li><a href=\"/articles/abelia/abelia-x-grandiflora/#17588\"> 'Kaleidoscope'</a></li><li><a href=\"/articles/abelia/abelia-x-grandiflora/#17589\"> 'Keylib'</a></li><li><a href=\"/articles/abelia/abelia-x-grandiflora/#17656\"> 'Lake Maggiore'</a></li><li><a href=\"/articles/abelia/abelia-x-grandiflora/#17590\"> 'Little Richard'</a></li><li><a href=\"/articles/abelia/abelia-x-grandiflora/#17593\"> 'Mardi Gras'</a></li><li><a href=\"/articles/abelia/abelia-x-grandiflora/#17594\"> 'Mei-fu-hana-tsukubane-utsugi'</a></li><li><a href=\"/articles/abelia/abelia-x-grandiflora/#17620\"> 'Minacara1'</a></li><li><a href=\"/articles/abelia/abelia-x-grandiflora/#17610\"> 'Mincautri'</a></li><li><a href=\"/articles/abelia/abelia-x-grandiflora/#17583\"> 'Minipan'</a></li><li><a href=\"/articles/abelia/abelia-x-grandiflora/#17592\"> 'Opstal103'</a></li><li><a href=\"/articles/abelia/abelia-x-grandiflora/#17595\"> 'Opstal40'</a></li><li><a href=\"/articles/abelia/abelia-x-grandiflora/#17596\"> 'Panache'</a></li><li><a href=\"/articles/abelia/abelia-x-grandiflora/#17584\"> 'PIIAB-1'</a></li><li><a href=\"/articles/abelia/abelia-x-grandiflora/#17597\"> 'Pink Lady'</a></li><li><a href=\"/articles/abelia/abelia-x-grandiflora/#17598\"> 'Pleasant Surprise'</a></li><li><a href=\"/articles/abelia/abelia-x-grandiflora/#17599\"> 'Prostrate White'</a></li><li><a href=\"/articles/abelia/abelia-x-grandiflora/#17600\"> 'Radiance'</a></li><li><a href=\"/articles/abelia/abelia-x-grandiflora/#17570\"> 'Rika1'</a></li><li><a href=\"/articles/abelia/abelia-x-grandiflora/#17601\"> 'Rose Creek'</a></li><li><a href=\"/articles/abelia/abelia-x-grandiflora/#17602\"> 'Semperflorens'</a></li><li><a href=\"/articles/abelia/abelia-x-grandiflora/#17603\"> 'Sherwoodii'</a></li><li><a href=\"/articles/abelia/abelia-x-grandiflora/#17604\"> 'Short and Sweet'</a></li><li><a href=\"/articles/abelia/abelia-x-grandiflora/#17605\"> 'Snowdrift'</a></li><li><a href=\"/articles/abelia/abelia-x-grandiflora/#17606\"> 'Sparkling Silver'</a></li><li><a href=\"/articles/abelia/abelia-x-grandiflora/#17607\"> 'Sunrise'</a></li><li><a href=\"/articles/abelia/abelia-x-grandiflora/#17614\"> 'Tanya'</a></li><li><a href=\"/articles/abelia/abelia-x-grandiflora/#17611\"> 'Wevo1'</a></li><li><a href=\"/articles/abelia/abelia-x-grandiflora/#17591\"> 'Wevo2'</a></li><li><a href=\"/articles/abelia/abelia-x-grandiflora/#17612\"> 'White Marvel'</a></li></ul></div><div><h3>Other taxa in genus</h3><ul class=\"uk-list ids-list-small\"><li><a href=\"/articles/abelia/abelia-chinensis/\"><i>Abelia chinensis</i></a></li><li><a href=\"/articles/abelia/abelia-edward-goucher-cultivars/\"><i>Abelia</i> 'Edward Goucher' Cultivars</a></li><li><a href=\"/articles/abelia/abelia-maurice-foster/\"><i>Abelia</i> 'Maurice Foster'</a></li><li><a href=\"/articles/abelia/abelia-schumannii/\"><i>Abelia schumannii</i></a></li><li><a href=\"/articles/abelia/abelia-uniflora/\"><i>Abelia uniflora</i></a></li></ul></div></div></div><button class=\"uk-hidden@l uk-button uk-button-default\" type=\"button\" uk-toggle=\"target: #offcanvas-species\">Species Links</button><div class=\"uk-offcanvas\" id=\"offcanvas-species\" uk-offcanvas=\"flip: true; overlay: true\"><div class=\"uk-offcanvas-bar\"><button class=\"uk-offcanvas-close uk-close uk-icon\" type=\"button\" uk-close=\"\"><svg height=\"14\" viewbox=\"0 0 14 14\" width=\"14\" xmlns=\"http://www.w3.org/2000/svg\"><line fill=\"none\" stroke=\"#000\" stroke-width=\"1.1\" x1=\"1\" x2=\"13\" y1=\"1\" y2=\"13\"></line><line fill=\"none\" stroke=\"#000\" stroke-width=\"1.1\" x1=\"13\" x2=\"1\" y1=\"1\" y2=\"13\"></line></svg></button><div><h3>Infraspecifics</h3><ul class=\"uk-list ids-list-small\"><li><a href=\"/articles/abelia/abelia-x-grandiflora/#17609\"> 'Abelops'</a></li><li><a href=\"/articles/abelia/abelia-x-grandiflora/#17586\"> 'Abghop'</a></li><li><a href=\"/articles/abelia/abelia-x-grandiflora/#17579\"> 'Abhfgold'</a></li><li><a href=\"/articles/abelia/abelia-x-grandiflora/#17582\"> 'Brmgold'</a></li><li><a href=\"/articles/abelia/abelia-x-grandiflora/#17571\"> 'Brockhill Allgold'</a></li><li><a href=\"/articles/abelia/abelia-x-grandiflora/#17572\"> 'Canyon Creek'</a></li><li><a href=\"/articles/abelia/abelia-x-grandiflora/#17574\"> 'Cloud 99'</a></li><li><a href=\"/articles/abelia/abelia-x-grandiflora/#17575\"> 'Compacta'</a></li><li><a href=\"/articles/abelia/abelia-x-grandiflora/#17576\"> 'Conti'</a></li><li><a href=\"/articles/abelia/abelia-x-grandiflora/#17613\"> 'Copper Glow'</a></li><li><a href=\"/articles/abelia/abelia-x-grandiflora/#17577\"> 'Flat Creek'</a></li><li><a href=\"/articles/abelia/abelia-x-grandiflora/#17578\"> 'Francis Mason'</a></li><li><a href=\"/articles/abelia/abelia-x-grandiflora/#17581\"> 'Gold Spot'</a></li><li><a href=\"/articles/abelia/abelia-x-grandiflora/#17585\"> 'Golden Glow'</a></li><li><a href=\"/articles/abelia/abelia-x-grandiflora/#17580\"> 'Goldenglossy'</a></li><li><a href=\"/articles/abelia/abelia-x-grandiflora/#17587\"> 'John Creech'</a></li><li><a href=\"/articles/abelia/abelia-x-grandiflora/#17588\"> 'Kaleidoscope'</a></li><li><a href=\"/articles/abelia/abelia-x-grandiflora/#17589\"> 'Keylib'</a></li><li><a href=\"/articles/abelia/abelia-x-grandiflora/#17656\"> 'Lake Maggiore'</a></li><li><a href=\"/articles/abelia/abelia-x-grandiflora/#17590\"> 'Little Richard'</a></li><li><a href=\"/articles/abelia/abelia-x-grandiflora/#17593\"> 'Mardi Gras'</a></li><li><a href=\"/articles/abelia/abelia-x-grandiflora/#17594\"> 'Mei-fu-hana-tsukubane-utsugi'</a></li><li><a href=\"/articles/abelia/abelia-x-grandiflora/#17620\"> 'Minacara1'</a></li><li><a href=\"/articles/abelia/abelia-x-grandiflora/#17610\"> 'Mincautri'</a></li><li><a href=\"/articles/abelia/abelia-x-grandiflora/#17583\"> 'Minipan'</a></li><li><a href=\"/articles/abelia/abelia-x-grandiflora/#17592\"> 'Opstal103'</a></li><li><a href=\"/articles/abelia/abelia-x-grandiflora/#17595\"> 'Opstal40'</a></li><li><a href=\"/articles/abelia/abelia-x-grandiflora/#17596\"> 'Panache'</a></li><li><a href=\"/articles/abelia/abelia-x-grandiflora/#17584\"> 'PIIAB-1'</a></li><li><a href=\"/articles/abelia/abelia-x-grandiflora/#17597\"> 'Pink Lady'</a></li><li><a href=\"/articles/abelia/abelia-x-grandiflora/#17598\"> 'Pleasant Surprise'</a></li><li><a href=\"/articles/abelia/abelia-x-grandiflora/#17599\"> 'Prostrate White'</a></li><li><a href=\"/articles/abelia/abelia-x-grandiflora/#17600\"> 'Radiance'</a></li><li><a href=\"/articles/abelia/abelia-x-grandiflora/#17570\"> 'Rika1'</a></li><li><a href=\"/articles/abelia/abelia-x-grandiflora/#17601\"> 'Rose Creek'</a></li><li><a href=\"/articles/abelia/abelia-x-grandiflora/#17602\"> 'Semperflorens'</a></li><li><a href=\"/articles/abelia/abelia-x-grandiflora/#17603\"> 'Sherwoodii'</a></li><li><a href=\"/articles/abelia/abelia-x-grandiflora/#17604\"> 'Short and Sweet'</a></li><li><a href=\"/articles/abelia/abelia-x-grandiflora/#17605\"> 'Snowdrift'</a></li><li><a href=\"/articles/abelia/abelia-x-grandiflora/#17606\"> 'Sparkling Silver'</a></li><li><a href=\"/articles/abelia/abelia-x-grandiflora/#17607\"> 'Sunrise'</a></li><li><a href=\"/articles/abelia/abelia-x-grandiflora/#17614\"> 'Tanya'</a></li><li><a href=\"/articles/abelia/abelia-x-grandiflora/#17611\"> 'Wevo1'</a></li><li><a href=\"/articles/abelia/abelia-x-grandiflora/#17591\"> 'Wevo2'</a></li><li><a href=\"/articles/abelia/abelia-x-grandiflora/#17612\"> 'White Marvel'</a></li></ul></div><div><h3>Other taxa in genus</h3><ul class=\"uk-list ids-list-small\"><li><a href=\"/articles/abelia/abelia-chinensis/\"><i>Abelia chinensis</i></a></li><li><a href=\"/articles/abelia/abelia-edward-goucher-cultivars/\"><i>Abelia</i> 'Edward Goucher' Cultivars</a></li><li><a href=\"/articles/abelia/abelia-maurice-foster/\"><i>Abelia</i> 'Maurice Foster'</a></li><li><a href=\"/articles/abelia/abelia-schumannii/\"><i>Abelia schumannii</i></a></li><li><a href=\"/articles/abelia/abelia-uniflora/\"><i>Abelia uniflora</i></a></li></ul></div></div></div></div><div class=\"uk-grid-margin uk-first-column\"><button class=\"uk-button uk-button-default\" type=\"button\" uk-toggle=\"target: #offcanvas-glossary\">Glossary</button><div class=\"uk-offcanvas\" id=\"offcanvas-glossary\" uk-offcanvas=\"flip: true; overlay: true\"><div class=\"uk-offcanvas-bar\"><button class=\"uk-offcanvas-close uk-close uk-icon\" type=\"button\" uk-close=\"\"><svg height=\"14\" viewbox=\"0 0 14 14\" width=\"14\" xmlns=\"http://www.w3.org/2000/svg\"><line fill=\"none\" stroke=\"#000\" stroke-width=\"1.1\" x1=\"1\" x2=\"13\" y1=\"1\" y2=\"13\"></line><line fill=\"none\" stroke=\"#000\" stroke-width=\"1.1\" x1=\"13\" x2=\"1\" y1=\"1\" y2=\"13\"></line></svg></button><h2>Glossary</h2><dl class=\"uk-description-list uk-text-small\"><dt>herbarium</dt><dd>A collection of preserved plant specimens; also the building in which such specimens are housed.</dd><dt>hybrid</dt><dd>Plant originating from the cross-fertilisation of genetically distinct individuals (e.g. two <a href=\"#\">species</a> or two <a href=\"#\">subspecies</a>).</dd></dl></div></div></div><div class=\"uk-grid-margin uk-first-column\"><button class=\"uk-button uk-button-default\" type=\"button\" uk-toggle=\"target: #offcanvas-refs\">References</button><div class=\"uk-offcanvas\" id=\"offcanvas-refs\" uk-offcanvas=\"flip: true; overlay: true\"><div class=\"uk-offcanvas-bar\"><button class=\"uk-offcanvas-close uk-close uk-icon\" type=\"button\" uk-close=\"\"><svg height=\"14\" viewbox=\"0 0 14 14\" width=\"14\" xmlns=\"http://www.w3.org/2000/svg\"><line fill=\"none\" stroke=\"#000\" stroke-width=\"1.1\" x1=\"1\" x2=\"13\" y1=\"1\" y2=\"13\"></line><line fill=\"none\" stroke=\"#000\" stroke-width=\"1.1\" x1=\"13\" x2=\"1\" y1=\"1\" y2=\"13\"></line></svg></button><h2>References</h2><ul class=\"uk-list uk-text-small\"><li><a href=\"/ref/bean-w-j-1976-trees-and-shrubs-hardy-in-the-british-isles-vol-1-a-c/\">Bean, W.J. (1976). Trees and Shrubs Hardy in the British Isles, Vol 1, A–C</a></li><li><a href=\"/ref/flora-of-china-2021-abelia/\">Flora of China (2021). Abelia</a></li><li><a href=\"/ref/landrein-s-farjon-a-2020-a-monograph-of-caprifoliaceae-linnaeeae/\">Landrein, S. &amp; Farjon, A. (2020). A monograph of Caprifoliaceae: Linnaeeae</a></li></ul></div></div></div><div class=\"uk-hidden@l tso-credits-button\"><button class=\"uk-button uk-button-default\" type=\"button\" uk-toggle=\"target: #offcanvas-sources\">Credits</button><div class=\"uk-offcanvas\" id=\"offcanvas-sources\" uk-offcanvas=\"flip: true; overlay: true\"><div class=\"uk-offcanvas-bar\"><button class=\"uk-offcanvas-close uk-close uk-icon\" type=\"button\" uk-close=\"\"><svg height=\"14\" viewbox=\"0 0 14 14\" width=\"14\" xmlns=\"http://www.w3.org/2000/svg\"><line fill=\"none\" stroke=\"#000\" stroke-width=\"1.1\" x1=\"1\" x2=\"13\" y1=\"1\" y2=\"13\"></line><line fill=\"none\" stroke=\"#000\" stroke-width=\"1.1\" x1=\"13\" x2=\"1\" y1=\"1\" y2=\"13\"></line></svg></button><div class=\"uk-card uk-card-small uk-card-default uk-card-body uk-margin-bottom\"><h2>Credits</h2><p>Owen Johnson (2021)</p><p><b>Recommended citation</b><br/>Johnson, O. (2021), <i>'Abelia</i> × <i>grandiflora'</i> from the website <i>Trees and Shrubs Online</i> (treesandshrubsonline.<wbr/>org/<wbr/>articles/<wbr/>abelia/<wbr/>abelia-x-grandiflora/<wbr/>). Accessed 2023-10-16.</p></div></div></div></div></div></div>,\n",
       " <div class=\"uk-width-1-1 uk-width-1-2@l tso-col-main\"><div class=\"uk-child-width-1-1 uk-child-width-1-2@s uk-grid uk-grid-stack\" uk-grid=\"\" uk-lightbox=\"\"><div class=\"uk-card uk-first-column\"><div class=\"uk-card-body uk-padding-remove\"><a class=\"uk-inline\" data-alt=\"Abelia × grandiflora\" data-caption=\"&lt;p&gt;&lt;i&gt;Abelia&lt;/i&gt; × &lt;i&gt;grandiflora&lt;/i&gt; 'Lake Maggiore' (Abbey Gardens, Bury St Edmunds, Suffolk, UK, August 2023). This is the classic clone, usually sold simply as &lt;i&gt;Abelia&lt;/i&gt; × &lt;i&gt;grandiflora&lt;/i&gt;. Image John Grimshaw.&lt;/p&gt;\" href=\"/site/assets/files/3919/abelia-x-grandiflora-4.jpg\"> <img alt=\"Abelia × grandiflora\" data-height=\"\" data-src=\"/site/assets/files/3919/abelia-x-grandiflora-4.jpg\" data-width=\"\" src=\"https://www.treesandshrubsonline.org/site/assets/files/3919/abelia-x-grandiflora-4.jpg\" uk-img=\"\"/> </a></div><div class=\"uk-card-footer uk-margin-small-top uk-margin-bottom uk-padding-remove uk-text-small tso-caption\"><p><i>Abelia</i> × <i>grandiflora</i> 'Lake Maggiore' (Abbey Gardens, Bury St Edmunds, Suffolk, UK, August 2023). This is the classic clone, usually sold simply as <i>Abelia</i> × <i>grandiflora</i>. Image John Grimshaw.</p></div></div><a data-alt=\"Abelia × grandiflora\" data-caption=\"&lt;p&gt;&lt;i&gt;Abelia&lt;/i&gt; × &lt;i&gt;grandiflora&lt;/i&gt; 'Lake Maggiore' (Abbey Gardens, Bury St Edmunds, Suffolk, UK, August 2023). Image John Grimshaw.&lt;/p&gt;\" hidden=\"\" href=\"/site/assets/files/3919/abelia-x-grandiflora-5.jpg\"></a><a data-alt=\"Abelia × grandiflora\" data-caption=\"&lt;p&gt;&lt;i&gt;Abelia&lt;/i&gt; × &lt;i&gt;grandiflora&lt;/i&gt; 'Rose Creek' on Battleston Hill at RHS Garden Wisley, 2nd September 2022. Image Tom Christian.&lt;/p&gt;\" hidden=\"\" href=\"/site/assets/files/3919/abelia-x-grandiflora-3.jpg\"></a><a data-alt=\"Abelia × grandiflora\" data-caption=\"&lt;p&gt;It can be difficult to convey the overall beauty of abelias in photographs; this &lt;i&gt;Abelia&lt;/i&gt; × &lt;i&gt;grandiflora&lt;/i&gt; on Battleston Hill at RHS Garden Wisley was in full flower on 2nd September 2022, filling the air at this path junction with its perfume. Image Tom Christian.&lt;/p&gt;\" hidden=\"\" href=\"/site/assets/files/3919/abelia-x-grandiflora.jpg\"></a><a data-alt=\"Abelia × grandiflora\" data-caption=\"&lt;p&gt;&lt;i&gt;Abelia&lt;/i&gt; × &lt;i&gt;grandiflora&lt;/i&gt; on Battleston Hill; their details are much better subjects for the camera than whole-plant portraits. This plant was labelled 'Francis Mason' but exhibits few of the characters associated with that clone. 2nd September 2022. Image Tom Christian.&lt;/p&gt;\" hidden=\"\" href=\"/site/assets/files/3919/abelia-x-grandiflora-1.jpg\"></a><a data-alt=\"Abelia × grandiflora\" data-caption=\"&lt;p&gt;&lt;i&gt;Abelia&lt;/i&gt; × &lt;i&gt;grandiflora&lt;/i&gt; 'Rose Creek' on Battleston Hill at RHS Garden Wisley, 2nd September 2022. Image Tom Christian.&lt;/p&gt;\" hidden=\"\" href=\"/site/assets/files/3919/abelia-x-grandiflora-2.jpg\"></a></div><div class=\"uk-text-small\"><p>A semi-evergreen shrub to 2 m with arching stems. Shoots usually with dense reddish pubescence. Leaves 2.5–4.5 cm long, ovate, base cuneate and apex acute, glossy green above and sometimes bronzed, glabrous or with tufts of hair under the vein-axils, margin remotely serrate with unequal teeth. Flowers from summer into winter; calyx with 2–5 persistent lanceolate sepals to 1.8 cm long, often partly united, reddish purple. Corolla white to pale pink, funnel-shaped, <i>c</i>. 2 cm long, slightly fragrant, the lower lip bearded. Stamens nearly as long as the corolla tube; filaments sometimes slightly exserted, glabrous. Style slightly exserted, 1.7–1.8 cm, glabrous. Fruit September-November, 8–10 mm, slender, sparsely hairy or glabrous, with persistent sepals at the apex. (<a href=\"/ref/flora-of-china-2021-abelia/\">Flora of China 2021</a>; <a href=\"/ref/bean-w-j-1976-trees-and-shrubs-hardy-in-the-british-isles-vol-1-a-c/\">Bean 1976</a>).</p><p><b>Habitat </b>Garden origin, with possible hybrid forms occurring naturally in southern China</p><p><b>USDA Hardiness Zone </b>5b</p><p><b>RHS Hardiness Rating </b>H6</p><p><b>Awards </b>AGM</p></div><div class=\"tso-main-text\"><p>The common hybrid Abelia was first described by Édouard André from a seedling at the Rovelli Brothers’ nurseries in Pallanza, Italy, in 1886, which is assumed to have been a cross between <i>Abelia uniflora</i> (since lost to cultivation in the west) and <i>A. chinensis</i>, a floriferous species that was considered less hardy. The name ‘Lake Maggiore’ has recently been adopted to define plants which are assumed to derive from the original Rovelli cross, and this name was awarded the Royal Horticultural Society’s Award of Garden Merit in 2009. However, the same cross is likely to have occurred a number of times since the 1880s (<a href=\"/ref/bean-w-j-1976-trees-and-shrubs-hardy-in-the-british-isles-vol-1-a-c/\">Bean 1976</a>), and the original form could even have been lost to cultivation.</p><p>All these forms show hybrid vigour, making them probably the hardiest Abelias, though in the cold winters of the early 20th century plants at Kew could sometimes be killed to ground level (<a href=\"/ref/bean-w-j-1976-trees-and-shrubs-hardy-in-the-british-isles-vol-1-a-c/\">Bean 1976</a>). Although the individual blooms are small these are also among the most floriferous Abelias, and the coloured, long-lasting sepals are particularly showy and contrast exquisitely with the especially glossy foliage. <i>Abelia</i> × <i>grandiflora</i> is now occasionally cultivated in China itself (<a href=\"/ref/flora-of-china-2021-abelia/\">Flora of China 2021</a>); in the wild the two parents grow in the same region but seem not to interbreed, since <i>A. chinensis</i> occupies lower elevations and is confined to more open, rockier habitats (<a href=\"/ref/landrein-s-farjon-a-2020-a-monograph-of-caprifoliaceae-linnaeeae/\">Landrein &amp; Farjon 2020</a>). Plants superficially resembling <i>A</i>. × <i>grandiflora</i> may however be found in the wild in the far south of China where there is a transition zone between <i>A. chinensis</i> (in its var. <i>lipoensis</i>) and <i>A. macrotera</i> (in its var. <i>deutziaefolia</i>) (<a href=\"/ref/landrein-s-farjon-a-2020-a-monograph-of-caprifoliaceae-linnaeeae/\">Landrein &amp; Farjon 2020</a>). The herbarium collection <i>Simmons</i> 288, made in Guizhou, is suggested in the <i>Flora of China</i> (<a href=\"/ref/flora-of-china-2021-abelia/\">Flora of China 2021</a>) to represent a wild form of <i>A</i>. × <i>grandiflora</i>, but is assigned to <i>A. macrotera</i> var. <i>deutziaefolia</i> by <a href=\"/ref/landrein-s-farjon-a-2020-a-monograph-of-caprifoliaceae-linnaeeae/\">Landrein &amp; Farjon (2020)</a>.</p><p>Numerous clones of <i>Abelia</i> × <i>grandiflora</i> have been bred, particularly in the south-eastern United States. Many have brightly coloured, golden or variegated foliage, though the original hybrid’s contrast of white and maroon with glossy deep green is one on which it is hard to improve. Some other clones have been selected for their neat, compact habit, a feature which is less important in the climate of north-western Europe where this plant performs best against the shelter of a south-facing wall, and can be partially trained up the wall.</p></div><div class=\"uk-grid-small uk-child-width-1-2@s uk-grid\" uk-grid=\"\" uk-lightbox=\"animation: fade;\"><a data-alt=\"Abelia × grandiflora\" data-caption=\"&lt;p&gt;&lt;i&gt;Abelia&lt;/i&gt; × &lt;i&gt;grandiflora&lt;/i&gt; 'Lake Maggiore' (Abbey Gardens, Bury St Edmunds, Suffolk, UK, August 2023). This is the classic clone, usually sold simply as &lt;i&gt;Abelia&lt;/i&gt; × &lt;i&gt;grandiflora&lt;/i&gt;. Image John Grimshaw.&lt;/p&gt;\" hidden=\"\" href=\"/site/assets/files/3919/abelia-x-grandiflora-4.jpg\"></a><div class=\"uk-card uk-first-column\"><div class=\"uk-card-body uk-padding-remove\"><a class=\"uk-inline\" data-alt=\"Abelia × grandiflora\" data-caption=\"&lt;p&gt;&lt;i&gt;Abelia&lt;/i&gt; × &lt;i&gt;grandiflora&lt;/i&gt; 'Lake Maggiore' (Abbey Gardens, Bury St Edmunds, Suffolk, UK, August 2023). Image John Grimshaw.&lt;/p&gt;\" href=\"/site/assets/files/3919/abelia-x-grandiflora-5.jpg\"> <img alt=\"Abelia × grandiflora\" data-height=\"\" data-src=\"/site/assets/files/3919/abelia-x-grandiflora-5.jpg\" data-width=\"\" uk-img=\"\"/> </a></div><div class=\"uk-card-footer uk-margin-small-top uk-margin-bottom uk-padding-remove uk-text-small tso-caption\"><p><i>Abelia</i> × <i>grandiflora</i> 'Lake Maggiore' (Abbey Gardens, Bury St Edmunds, Suffolk, UK, August 2023). Image John Grimshaw.</p></div></div><div class=\"uk-card\"><div class=\"uk-card-body uk-padding-remove\"><a class=\"uk-inline\" data-alt=\"Abelia × grandiflora\" data-caption=\"&lt;p&gt;&lt;i&gt;Abelia&lt;/i&gt; × &lt;i&gt;grandiflora&lt;/i&gt; 'Rose Creek' on Battleston Hill at RHS Garden Wisley, 2nd September 2022. Image Tom Christian.&lt;/p&gt;\" href=\"/site/assets/files/3919/abelia-x-grandiflora-3.jpg\"> <img alt=\"Abelia × grandiflora\" data-height=\"\" data-src=\"/site/assets/files/3919/abelia-x-grandiflora-3.jpg\" data-width=\"\" uk-img=\"\"/> </a></div><div class=\"uk-card-footer uk-margin-small-top uk-margin-bottom uk-padding-remove uk-text-small tso-caption\"><p><i>Abelia</i> × <i>grandiflora</i> 'Rose Creek' on Battleston Hill at RHS Garden Wisley, 2nd September 2022. Image Tom Christian.</p></div></div><div class=\"uk-card uk-grid-margin uk-first-column\"><div class=\"uk-card-body uk-padding-remove\"><a class=\"uk-inline\" data-alt=\"Abelia × grandiflora\" data-caption=\"&lt;p&gt;It can be difficult to convey the overall beauty of abelias in photographs; this &lt;i&gt;Abelia&lt;/i&gt; × &lt;i&gt;grandiflora&lt;/i&gt; on Battleston Hill at RHS Garden Wisley was in full flower on 2nd September 2022, filling the air at this path junction with its perfume. Image Tom Christian.&lt;/p&gt;\" href=\"/site/assets/files/3919/abelia-x-grandiflora.jpg\"> <img alt=\"Abelia × grandiflora\" data-height=\"\" data-src=\"/site/assets/files/3919/abelia-x-grandiflora.jpg\" data-width=\"\" uk-img=\"\"/> </a></div><div class=\"uk-card-footer uk-margin-small-top uk-margin-bottom uk-padding-remove uk-text-small tso-caption\"><p>It can be difficult to convey the overall beauty of abelias in photographs; this <i>Abelia</i> × <i>grandiflora</i> on Battleston Hill at RHS Garden Wisley was in full flower on 2nd September 2022, filling the air at this path junction with its perfume. Image Tom Christian.</p></div></div><div class=\"uk-card uk-grid-margin\"><div class=\"uk-card-body uk-padding-remove\"><a class=\"uk-inline\" data-alt=\"Abelia × grandiflora\" data-caption=\"&lt;p&gt;&lt;i&gt;Abelia&lt;/i&gt; × &lt;i&gt;grandiflora&lt;/i&gt; on Battleston Hill; their details are much better subjects for the camera than whole-plant portraits. This plant was labelled 'Francis Mason' but exhibits few of the characters associated with that clone. 2nd September 2022. Image Tom Christian.&lt;/p&gt;\" href=\"/site/assets/files/3919/abelia-x-grandiflora-1.jpg\"> <img alt=\"Abelia × grandiflora\" data-height=\"\" data-src=\"/site/assets/files/3919/abelia-x-grandiflora-1.jpg\" data-width=\"\" uk-img=\"\"/> </a></div><div class=\"uk-card-footer uk-margin-small-top uk-margin-bottom uk-padding-remove uk-text-small tso-caption\"><p><i>Abelia</i> × <i>grandiflora</i> on Battleston Hill; their details are much better subjects for the camera than whole-plant portraits. This plant was labelled 'Francis Mason' but exhibits few of the characters associated with that clone. 2nd September 2022. Image Tom Christian.</p></div></div><div class=\"uk-card uk-grid-margin uk-first-column\"><div class=\"uk-card-body uk-padding-remove\"><a class=\"uk-inline\" data-alt=\"Abelia × grandiflora\" data-caption=\"&lt;p&gt;&lt;i&gt;Abelia&lt;/i&gt; × &lt;i&gt;grandiflora&lt;/i&gt; 'Rose Creek' on Battleston Hill at RHS Garden Wisley, 2nd September 2022. Image Tom Christian.&lt;/p&gt;\" href=\"/site/assets/files/3919/abelia-x-grandiflora-2.jpg\"> <img alt=\"Abelia × grandiflora\" data-height=\"\" data-src=\"/site/assets/files/3919/abelia-x-grandiflora-2.jpg\" data-width=\"\" uk-img=\"\"/> </a></div><div class=\"uk-card-footer uk-margin-small-top uk-margin-bottom uk-padding-remove uk-text-small tso-caption\"><p><i>Abelia</i> × <i>grandiflora</i> 'Rose Creek' on Battleston Hill at RHS Garden Wisley, 2nd September 2022. Image Tom Christian.</p></div></div></div><hr/><h3 id=\"17609\">'Abelops'</h3><div class=\"uk-margin-small-top uk-text-small\"><p class=\"uk-margin-small\"><b>Synonyms / alternative names</b><br/><i>Abelia</i> × <i>grandiflora</i> <span class=\"trade\">SUNSHINE DAYDREAM<sup>®</sup></span><br/></p></div><p>A hardy selection released by Balls Ornamentals in the United States in 2012, combining a yellow marginal variegation with a rich reddish flush; new leaves through the season are tipped wtih dark red and edged in pink, creating a tricoloured effect. It forms a mound to one metre hight, but some pruning may be needed (<a href=\"/ref/hatch-l-c-2021%E2%80%932022-hatchs-cultivars-of-woody-plants-2021%E2%80%932022-edition/\">Hatch 2021–2022</a>).</p><hr/><h3 id=\"17586\">'Abghop'</h3><div class=\"uk-margin-small-top uk-text-small\"><p class=\"uk-margin-small\"><b>Synonyms / alternative names</b><br/><i>Abelia</i> ×<i> grandiflora</i> <span class=\"trade\">TWIST OF LIME<sup>™</sup></span><br/><i>Abelia</i> × <i>grandiflora</i> <span class=\"trade\">HOPLEYS<sup>™</sup></span><br/></p><p class=\"uk-margin-small\"><b>Awards</b><br/>AGM</p></div><p>A sport of ‘Francis Mason’ raised at Hopley’s Nursery in Hertfordshire, UK around 1992 and now widely available. The yellow-margined and pale-splashed leaves turn pinkish in autumn and the clone is said to be more floriferous than its parent, and less inclined to revert than rival selections such as the Gold Spot Group (<a href=\"/ref/hatch-l-c-2021-2022-hatchs-cultivars-of-woody-plants-2021-2022-edition/\">Hatch 2021–2022</a>). Plants sold as<i> Abelia</i> × <i>grandiflora</i> <span class=\"trade\">TWIST OF LIME<sup>™</sup></span> are questionably different, with a greener centre to the leaf and paler pink flowers (<a href=\"/ref/hatch-l-c-2021-2022-hatchs-cultivars-of-woody-plants-2021-2022-edition/\">Hatch 2021–2022</a>).</p><hr/><h3 id=\"17579\">'Abhfgold'</h3><div class=\"uk-margin-small-top uk-text-small\"><p class=\"uk-margin-small\"><b>Synonyms / alternative names</b><br/><i>Abelia </i>× <i>grandiflora</i> <span class=\"trade\">GOLD JEWEL<sup>®</sup></span><br/><i>Abelia</i> × <i>grandiflora</i> 'Little Gold'<br/></p></div><p>Yellow leaves turning coppery in winter. Released in 2020 (<a href=\"/ref/royal-horticultural-society-2018-the-plant-finder/\">Royal Horticultural Society 2020</a>).</p><hr/><h3 id=\"17582\">'Brmgold'</h3><div class=\"uk-margin-small-top uk-text-small\"><p class=\"uk-margin-small\"><b>Synonyms / alternative names</b><br/><i>Abelia</i> ×<i> grandiflora</i> <span class=\"trade\">GOLD TOUCH<sup>®</sup></span><br/></p></div><p>A compact form from (<a href=\"https://www.sapho.fr/gb/trees-and-shrubs/172-abelia-x-gold-touch-bmrgold-.html\">Sapho</a>) in France with red stems and golden leaves that flush coppery and bronze in winter.</p><hr/><h3 id=\"17571\">'Brockhill Allgold'</h3><div class=\"uk-margin-small-top uk-text-small\"></div><p>A sport with yellow foliage and white flowers, presumably raised at Brockhill Nurseries in Hampshire and now sold around the UK (<a href=\"/ref/royal-horticultural-society-2016-horticultural-database-search/\">Royal Horticultural Society 2021</a>).</p><hr/><h3 id=\"17572\">'Canyon Creek'</h3><div class=\"uk-margin-small-top uk-text-small\"><p class=\"uk-margin-small\"><b>Synonyms / alternative names</b><br/><i>Abelia</i> 'Canyon Creek'<br/></p><p class=\"uk-margin-small\"><b>Awards</b><br/>AGM</p></div><p>‘Canyon Creek’ was one of eight seedlings of <i>Abelia chinensis</i> with yellow foliage, selected by Michael Dirr in 2002 (<a href=\"/ref/dirr-m-a-2009-manual-of-woody-landscape-plants/\">Dirr 2009</a>). In a hot American summer the leaves can turn green, before they bronze or redden in winter. ‘Canyon Creek’ is sometimes described as an unassigned <i>Abelia </i>cultivar; the appearance of the small-flowered plant now sold under this name strongly suggests that <i>A</i>. × <i>grandiflora</i> was the male parent, though Dirr’s original description of pink flowers of huge size (up to 5 cm long) might be taken to imply some influence of <i>A. schumannii</i>.</p><div class=\"uk-grid-small uk-child-width-1-3@m uk-grid\" uk-grid=\"\" uk-lightbox=\"animation: fade;\"><div class=\"uk-card uk-first-column\"><div class=\"uk-card-body uk-padding-remove\"><a class=\"uk-inline\" data-alt=\"Abelia × grandiflora 'Canyon Creek'\" data-caption=\"&lt;p&gt;Coppery new growth of &lt;i&gt;Abelia&lt;/i&gt; × &lt;i&gt;grandiflora&lt;/i&gt; 'Canyon Creek' (Bluebell Arboretum and Nursery, Derbyshire, September 2022). Image John Grimshaw.&lt;/p&gt;\" href=\"/site/assets/files/17572/abelia-x-grandiflora-canyon-creek.jpg\"> <img alt=\"Abelia × grandiflora 'Canyon Creek'\" data-height=\"\" data-src=\"/site/assets/files/17572/abelia-x-grandiflora-canyon-creek.jpg\" data-width=\"\" uk-img=\"\"/> </a></div><div class=\"uk-card-footer uk-margin-small-top uk-margin-bottom uk-padding-remove uk-text-small tso-caption\"><p>Coppery new growth of <i>Abelia</i> × <i>grandiflora</i> 'Canyon Creek' (Bluebell Arboretum and Nursery, Derbyshire, September 2022). Image John Grimshaw.</p></div></div><div class=\"uk-card\"><div class=\"uk-card-body uk-padding-remove\"><a class=\"uk-inline\" data-alt=\"Abelia × grandiflora 'Canyon Creek'\" data-caption=\"&lt;p&gt;&lt;i&gt;Abelia&lt;/i&gt; × &lt;i&gt;grandiflora&lt;/i&gt; 'Canyon Creek' (Bluebell Arboretum and Nursery, Derbyshire, September 2022). Image John Grimshaw.&lt;/p&gt;\" href=\"/site/assets/files/17572/abelia-x-grandiflora-canyon-creek-1.jpg\"> <img alt=\"Abelia × grandiflora 'Canyon Creek'\" data-height=\"\" data-src=\"/site/assets/files/17572/abelia-x-grandiflora-canyon-creek-1.jpg\" data-width=\"\" uk-img=\"\"/> </a></div><div class=\"uk-card-footer uk-margin-small-top uk-margin-bottom uk-padding-remove uk-text-small tso-caption\"><p><i>Abelia</i> × <i>grandiflora</i> 'Canyon Creek' (Bluebell Arboretum and Nursery, Derbyshire, September 2022). Image John Grimshaw.</p></div></div></div><hr/><h3 id=\"17574\">'Cloud 99'</h3><div class=\"uk-margin-small-top uk-text-small\"></div><p>An assumed back-cross with <i>A. chinensis</i>, bred by Dr Carol Robacker at the University of Georgia (USA) (<a href=\"/ref/dirr-m-a-2009-manual-of-woody-landscape-plants/\">Dirr 2009</a>) and noted as drought-tolerant. The flowers are white with green sepals which mature to pale pink.</p><hr/><h3 id=\"17575\">'Compacta'</h3><div class=\"uk-margin-small-top uk-text-small\"></div><p>A low-growing form, though probably not as dwarf as ‘Sherwoodii’ (q.v.) (<a href=\"/ref/hatch-l-c-2021-2022-hatchs-cultivars-of-woody-plants-2021-2022-edition/\">Hatch 2021–2022</a>); any vigorous reverted shoots should be pruned out (<a href=\"/ref/edwards-d-marshall-r-eds-2019-the-hillier-manual-of-trees-amp-shrubs/\">Edwards &amp; Marshall 2019</a>). It flowers late in the season, and in the south-eastern United States is shy-flowering (<a href=\"/ref/dirr-m-a-2009-manual-of-woody-landscape-plants/\">Dirr 2009</a>).</p><hr/><h3 id=\"17576\">'Conti'</h3><div class=\"uk-margin-small-top uk-text-small\"><p class=\"uk-margin-small\"><b>Synonyms / alternative names</b><br/><i>Abelia</i> × <i>grandiflora</i> <span class=\"trade\">CONFETTI<sup>PBR</sup></span><br/></p></div><p>A branch sport from ‘Sherwoodii’ raised in Alabama; an even smaller plant with small (2–2.5 cm long), narrower, sometimes twisted white-margined leaves, the variegation turning pink in winter (<a href=\"/ref/dirr-m-a-2009-manual-of-woody-landscape-plants/\">Dirr 2009</a>). The flowers open almost pure white from reddish pink buds.</p><hr/><h3 id=\"17613\">'Copper Glow'</h3><div class=\"uk-margin-small-top uk-text-small\"></div><p>A yellow-variegated clone with coppery new growths, sold in the UK by 1984 (<a href=\"/ref/dirr-m-a-2009-manual-of-woody-landscape-plants/\">Dirr 2009</a>). It resembles ‘Francis Mason’, but was accepted as a cultivar by the Royal Horticultural Society in 2012 (<a href=\"/ref/royal-horticultural-society-2016-horticultural-database-search/\">Royal Horticultural Society 2021</a>).</p><hr/><h3 id=\"17577\">'Flat Creek'</h3><div class=\"uk-margin-small-top uk-text-small\"></div><p>An open-pollinated seedling of <i>Abelia chinensis</i> from the same group as ‘Canyon Creek’ and ‘Rose Creek’, named by Mark Griffith in Georgia (USA), with a compact habit (<a href=\"/ref/dirr-m-a-2009-manual-of-woody-landscape-plants/\">Dirr 2009</a>).</p><hr/><h3 id=\"17578\">'Francis Mason'</h3><div class=\"uk-margin-small-top uk-text-small\"><p class=\"uk-margin-small\"><b>Synonyms / alternative names</b><br/><i>Abelia</i> × <i>grandiflora</i> 'Variegata'<br/></p></div><p>The first and still the best-known variegated Abelia was raised at Mason’s Nurseries in New Zealand in the early 1950s; its leaves have a yellow margin with a yellowish-green centre, but darken in the summer heat of the south-eastern United States (<a href=\"/ref/dirr-m-a-2009-manual-of-woody-landscape-plants/\">Dirr 2009</a>), and reversions are frequent. The foliage flushes bronze or pinkish. ‘Francis Mason’ is a vigorous and fertile plant which has contributed its genes to several more recent variegated clones.</p><div class=\"uk-grid-small uk-child-width-1-3@m uk-grid\" uk-grid=\"\" uk-lightbox=\"animation: fade;\"><div class=\"uk-card uk-first-column\"><div class=\"uk-card-body uk-padding-remove\"><a class=\"uk-inline\" data-alt=\"Abelia × grandiflora 'Francis Mason'\" data-caption=\"&lt;p&gt;&lt;i&gt;Abelia&lt;/i&gt; × &lt;i&gt;grandiflora&lt;/i&gt; 'Francis Mason' (Bluebell Arboretum and Nursery, Derbyshire, September 2022). Image John Grimshaw.&lt;/p&gt;\" href=\"/site/assets/files/17578/abelia-x-grandiflora-francis-mason.jpg\"> <img alt=\"Abelia × grandiflora 'Francis Mason'\" data-height=\"\" data-src=\"/site/assets/files/17578/abelia-x-grandiflora-francis-mason.jpg\" data-width=\"\" uk-img=\"\"/> </a></div><div class=\"uk-card-footer uk-margin-small-top uk-margin-bottom uk-padding-remove uk-text-small tso-caption\"><p><i>Abelia</i> × <i>grandiflora</i> 'Francis Mason' (Bluebell Arboretum and Nursery, Derbyshire, September 2022). Image John Grimshaw.</p></div></div><div class=\"uk-card\"><div class=\"uk-card-body uk-padding-remove\"><a class=\"uk-inline\" data-alt=\"Abelia × grandiflora 'Francis Mason'\" data-caption=\"&lt;p&gt;&lt;i&gt;Abelia&lt;/i&gt; × &lt;i&gt;grandiflora&lt;/i&gt; 'Francis Mason' (Bluebell Arboretum and Nursery, Derbyshire, September 2022). Image John Grimshaw.&lt;/p&gt;\" href=\"/site/assets/files/17578/abelia-x-grandiflora-francis-mason-1.jpg\"> <img alt=\"Abelia × grandiflora 'Francis Mason'\" data-height=\"\" data-src=\"/site/assets/files/17578/abelia-x-grandiflora-francis-mason-1.jpg\" data-width=\"\" uk-img=\"\"/> </a></div><div class=\"uk-card-footer uk-margin-small-top uk-margin-bottom uk-padding-remove uk-text-small tso-caption\"><p><i>Abelia</i> × <i>grandiflora</i> 'Francis Mason' (Bluebell Arboretum and Nursery, Derbyshire, September 2022). Image John Grimshaw.</p></div></div></div><hr/><h3 id=\"17581\">'Gold Spot'</h3><div class=\"uk-margin-small-top uk-text-small\"><p class=\"uk-margin-small\"><b>Synonyms / alternative names</b><br/><i>Abelia</i> Gold Spot Group<br/><i>Abelia</i> × <i>grandiflora</i> 'Aurea'<br/><i>Abelia</i> × <i>grandiflora</i> 'Goldspot'<br/><i>Abelia</i> × <i>grandiflora</i> 'Gold Strike'<br/><i>Abelia</i> × <i>grandiflora</i> <span class=\"trade\">GOLDSPORT<sup>™</sup></span><br/><i>Abelia</i> × <i>grandiflora</i> 'Costin'<br/></p></div><p>A newer clone than the profusion of variant sale names might suggest; a sport of ‘Francis Mason’ with yellow foliage greening through summer and tending to bronze in winter, the golden margin broader than in ‘Golden Glow’ (<a href=\"/ref/dirr-m-a-2009-manual-of-woody-landscape-plants/\">Dirr 2009</a>). The pinkish flowers are produced sparingly.</p><hr/><h3 id=\"17585\">'Golden Glow'</h3><div class=\"uk-margin-small-top uk-text-small\"></div><p>A clone variously described as yellow-leaved or with yellow leaf-margins. It may be an unstable chimaera sported from ‘Francis Mason’ (<a href=\"/ref/dirr-m-a-2009-manual-of-woody-landscape-plants/\">Dirr 2009</a>).</p><hr/><h3 id=\"17580\">'Goldenglossy'</h3><div class=\"uk-margin-small-top uk-text-small\"><p class=\"uk-margin-small\"><b>Synonyms / alternative names</b><br/><i>Abelia</i> × <i>grandiflora</i> <span class=\"trade\">GOLD DUST<sup>™</sup></span><br/><i>Abelia</i> × <i>grandiflora</i> 'Goldenglory'<br/></p></div><p>A compact sport of ‘Sherwoodii’ found by Jerry Pittman in Alabama in 1996, with gold-margined leaves; the white flowers are sparingly produced (<a href=\"/ref/dirr-m-a-2009-manual-of-woody-landscape-plants/\">Dirr 2009</a>).</p><hr/><h3 id=\"17587\">'John Creech'</h3><div class=\"uk-margin-small-top uk-text-small\"></div><p>A selection made by John Creech in Maryland with dense and uniform growth (<a href=\"/ref/dirr-m-a-2009-manual-of-woody-landscape-plants/\">Dirr 2009</a>), and one of the hardiest forms (<a href=\"/ref/stewart-r-2021-future-plants-abelia/\">Stewart 2021</a>). Although ‘John Creech’ has white flowers with four or five sepals, Michael Dirr (<a href=\"/ref/dirr-m-a-2009-manual-of-woody-landscape-plants/\">Dirr 2009</a>) suggests affinities to the ‘Edward Goucher’ group.</p><hr/><h3 id=\"17588\">'Kaleidoscope'</h3><div class=\"uk-margin-small-top uk-text-small\"></div><p>A golden-leaved branch-sport of ‘Little Richard’, found by Randall Lindsay in North Carolina and sold in the United States by 2005 (<a href=\"/ref/hatch-l-c-2021-2022-hatchs-cultivars-of-woody-plants-2021-2022-edition/\">Hatch 2021–2022</a>). This is one of the brightest forms, its yellow foliage not greening in a hot summer and turning pinkish in autumn (<a href=\"/ref/dirr-m-a-2009-manual-of-woody-landscape-plants/\">Dirr 2009</a>).</p><div class=\"uk-grid-small uk-child-width-1-3@m uk-grid uk-grid-stack\" uk-grid=\"\" uk-lightbox=\"animation: fade;\"><div class=\"uk-card uk-first-column\"><div class=\"uk-card-body uk-padding-remove\"><a class=\"uk-inline\" data-alt=\"Abelia × grandiflora 'Kaleidoscope'\" data-caption=\"&lt;p&gt;&lt;i&gt;Abelia&lt;/i&gt; × &lt;i&gt;grandiflora&lt;/i&gt; 'Kaleidoscope' continuing to produce new shoots during an unusually warm autumn at Arboretum Gaston Allard, Angers, France. 7 October 2023. Image Tom Christian.&lt;/p&gt;\" href=\"/site/assets/files/17588/abelia-x-grandiflora-kaleidoscope.jpg\"> <img alt=\"Abelia × grandiflora 'Kaleidoscope'\" data-height=\"\" data-src=\"/site/assets/files/17588/abelia-x-grandiflora-kaleidoscope.jpg\" data-width=\"\" uk-img=\"\"/> </a></div><div class=\"uk-card-footer uk-margin-small-top uk-margin-bottom uk-padding-remove uk-text-small tso-caption\"><p><i>Abelia</i> × <i>grandiflora</i> 'Kaleidoscope' continuing to produce new shoots during an unusually warm autumn at Arboretum Gaston Allard, Angers, France. 7 October 2023. Image Tom Christian.</p></div></div></div><hr/><h3 id=\"17589\">'Keylib'</h3><div class=\"uk-margin-small-top uk-text-small\"><p class=\"uk-margin-small\"><b>Synonyms / alternative names</b><br/><i>Abelia </i>× <i>grandiflora</i> <span class=\"trade\">LADY LIBERTY<sup>™</sup></span><br/></p></div><p>A compact, white-flowered form selected by Klement Keyser in Germany around 2008 (<a href=\"/ref/hatch-l-c-2021%E2%80%932022-hatchs-cultivars-of-woody-plants-2021%E2%80%932022-edition/\">Hatch 2021–2022</a>).</p><hr/><h3 id=\"17656\">'Lake Maggiore'</h3><div class=\"uk-margin-small-top uk-text-small\"><p class=\"uk-margin-small\"><b>Awards</b><br/>AGM</p></div><p>This clonal name has recently been adopted in the UK by the Royal Horticultural Society (<a href=\"/ref/royal-horticultural-society-2016-horticultural-database-search/\">Royal Horticultural Society 2021</a>) for the ‘common’ green-leaved form of the cross, which was first made at the Rovelli Brothers nursery beside Lago Maggiore in northern Italy; the contrast of the white and dark red flowers with the rich glossy green of the foliage cannot necessarily be improved upon by any of the showily variegated clones which have since been selected. This green-lived population seems quite uniform in terms of quality and vigour, though, as Bean pointed out, the cross is likely to have occurred a number of times since the 1880s and ‘whether the plants cultivated today are from this or some other source is not known’ (<a href=\"/ref/bean-w-j-1976-trees-and-shrubs-hardy-in-the-british-isles-vol-1-a-c/\">Bean 1976</a>).</p><div class=\"uk-grid-small uk-child-width-1-3@m uk-grid uk-grid-stack\" uk-grid=\"\" uk-lightbox=\"animation: fade;\"><div class=\"uk-card uk-first-column\"><div class=\"uk-card-body uk-padding-remove\"><a class=\"uk-inline\" data-alt=\"Abelia × grandiflora 'Lake Maggiore'\" data-caption=\"&lt;p&gt;&lt;i&gt;Abelia&lt;/i&gt; × &lt;i&gt;grandiflora&lt;/i&gt; 'Lake Maggiore' (Abbey Gardens, Bury St Edmunds, Suffolk, UK, August 2023). Image John Grimshaw.&lt;/p&gt;\" href=\"/site/assets/files/17656/abelia-x-grandiflora-lake-maggiore.jpg\"> <img alt=\"Abelia × grandiflora 'Lake Maggiore'\" data-height=\"\" data-src=\"/site/assets/files/17656/abelia-x-grandiflora-lake-maggiore.jpg\" data-width=\"\" uk-img=\"\"/> </a></div><div class=\"uk-card-footer uk-margin-small-top uk-margin-bottom uk-padding-remove uk-text-small tso-caption\"><p><i>Abelia</i> × <i>grandiflora</i> 'Lake Maggiore' (Abbey Gardens, Bury St Edmunds, Suffolk, UK, August 2023). Image John Grimshaw.</p></div></div></div><hr/><h3 id=\"17590\">'Little Richard'</h3><div class=\"uk-margin-small-top uk-text-small\"></div><p>A sport of ‘Sherwoodii’ raised by Richard Currin in North Carolina before 1998; it makes a dense mound to 80 cm high and is floriferous and notably hardy (<a href=\"/ref/hatch-l-c-2021-2022-hatchs-cultivars-of-woody-plants-2021-2022-edition/\">Hatch 2021–2022</a>).</p><hr/><h3 id=\"17593\">'Mardi Gras'</h3><div class=\"uk-margin-small-top uk-text-small\"></div><p>A cultivar with dark pink young stems and white-margined leaves with grey-green centres which pinken in autumn; selected by Rick Crowder in North Carolina in 2004 (<a href=\"/ref/dirr-m-a-2009-manual-of-woody-landscape-plants/\">Dirr 2009</a>).</p><hr/><h3 id=\"17594\">'Mei-fu-hana-tsukubane-utsugi'</h3><div class=\"uk-margin-small-top uk-text-small\"></div><p>A product of the breeding of <i>Abelia</i> × <i>grandiflora</i> in Japan, produced by H. Suda in 1976 by irradiating the clone ‘Hanozono-tsukubane-utsugi’, and available in the past in the United States: a dwarf but vigorous plant whose leaves have a bright yellow margin and a deep green centre (<a href=\"/ref/hatch-l-c-2021%E2%80%932022-hatchs-cultivars-of-woody-plants-2021%E2%80%932022-edition/\">Hatch 2021–2022</a>).</p><hr/><h3 id=\"17620\">'Minacara1'</h3><div class=\"uk-margin-small-top uk-text-small\"><p class=\"uk-margin-small\"><b>Synonyms / alternative names</b><br/><i>Abelia</i> × <i>grandiflora</i> <span class=\"trade\">FUNSHINE<sup>®</sup></span><br/></p></div><p>A recent production from Pépinières Minier in France, with yellow leaves flushing orange, and wide-mouthed pink (<a href=\"https://springmeadownursery.com/plantfinder/funshine-00410\">flowers</a>), now also available in the United States. The flower shape and colour, with darker speckling in the throat and with reflexed lobes, suggests that <i>A. schumannii</i> may play a part in this cultivar’s ancestry, though it is marketed as a clone of <i>A</i>. × <i>grandiflora</i>.</p><hr/><h3 id=\"17610\">'Mincautri'</h3><div class=\"uk-margin-small-top uk-text-small\"><p class=\"uk-margin-small\"><b>Synonyms / alternative names</b><br/><i>Abelia</i> × <i>grandiflora</i> <span class=\"trade\">TRICOLOUR CHARM<sup>™</sup></span><br/><i>Abelia</i> × <i>grandiflora</i> <span class=\"trade\">TRICOLOR CHARM<sup>®</sup></span><br/></p></div><p>A recent (<a href=\"https://www.duchyofcornwallnursery.co.uk/plants/abelia-x-grand-tricolour-charm\">release</a>) from Pépinières Minier in France; cream- and pink-variegated foliage is tinged yellow in spring. The flowers are white.</p><hr/><h3 id=\"17583\">'Minipan'</h3><div class=\"uk-margin-small-top uk-text-small\"><p class=\"uk-margin-small\"><b>Synonyms / alternative names</b><br/><i>Abelia</i> × <i>grandiflora</i> <span class=\"trade\">GOLDEN ANNIVERSARY<sup>™</sup></span><br/><i>Abelia</i> × <i>grandiflora</i> <span class=\"trade\">GOLDEN PANACHE<sup>PBR</sup></span><br/><i>Abelia</i> × <i>grandiflora</i> 'Minpan'<br/></p></div><p>A sport of ‘Compacta’ raised by Pépinières Minier in France and sold in the United States by 2006, forming a low mound with gold-margined leaves (<a href=\"/ref/dirr-m-a-2009-manual-of-woody-landscape-plants/\">Dirr 2009</a>). Laurence Hatch (<a href=\"/ref/hatch-l-c-2021%E2%80%932022-hatchs-cultivars-of-woody-plants-2021%E2%80%932022-edition/\">Hatch 2021–2022</a>) suggests that <i>Abelia</i> × <i>grandiflora</i> <span class=\"trade\">GOLDEN PANACHE</span><sup><span class=\"trade\">PBR</span> </sup>represents the same clone, and there is also confusion with <i>Abelia</i> × <i>grandiflora</i> <span class=\"trade\">SILVER PANACHE<sup>PBR</sup></span>.</p><hr/><h3 id=\"17592\">'Opstal103'</h3><div class=\"uk-margin-small-top uk-text-small\"><p class=\"uk-margin-small\"><b>Synonyms / alternative names</b><br/><i>Abelia</i> × <i>grandiflora</i> <span class=\"trade\">MAGIC DAYDREAM<sup>®</sup></span><br/></p></div><p>A recent (<a href=\"https://www.crocus.co.uk/plants/_/abelia--grandiflora-magic-daydream-opstal103-pbr/classid.2000024907/\">selection</a>) from Ron van Opstal in Holland with white-margined leaves and a profusion of large pink-flushed flowers.</p><hr/><h3 id=\"17595\">'Opstal40'</h3><div class=\"uk-margin-small-top uk-text-small\"><p class=\"uk-margin-small\"><b>Synonyms / alternative names</b><br/><i>Abelia</i> ×<i> grandiflora</i> <span class=\"trade\">MYSTIC DAYDREAM<sup>PBR</sup></span><br/></p></div><p>A compact, rather upright (<a href=\"https://www.shootgardening.co.uk/plant/abelia-x-grandiflora-mystic-daydream\">selection</a>) released in 2012 by Ron van Opstal in Holland.</p><hr/><h3 id=\"17596\">'Panache'</h3><div class=\"uk-margin-small-top uk-text-small\"><p class=\"uk-margin-small\"><b>Synonyms / alternative names</b><br/><i>Abelia</i> × <i>grandiflora</i> <span class=\"trade\">SILVER ANNIVERSARY<sup>™</sup></span><br/><i>Abelia</i> × <i>grandiflora</i> 'Silver Panache'<br/><i>Abelia</i> × <i>grandiflora</i> 'Panash'<br/></p></div><p>A compact plant with reddish stems, whose leaves are narrowly margined in pale grey, raised from ‘Prostrate White’ by Pépinières Minier in France (<a href=\"/ref/hatch-l-c-2021-2022-hatchs-cultivars-of-woody-plants-2021-2022-edition/\">Hatch 2021–2022</a>).</p><hr/><h3 id=\"17584\">'PIIAB-1'</h3><div class=\"uk-margin-small-top uk-text-small\"><p class=\"uk-margin-small\"><b>Synonyms / alternative names</b><br/><i>Abelia</i> × <i>grandiflora</i> <span class=\"trade\">GOLDEN FLEECE<sup>™</sup></span><br/></p></div><p>A compact gold-leaved clone raised by the University of Georgia’s breeding programme in the United States (<a href=\"/ref/hatch-l-c-2021%E2%80%932022-hatchs-cultivars-of-woody-plants-2021%E2%80%932022-edition/\">Hatch 2021–2022</a>), less likely than many similar forms to burn in hot sun, and quite fast-growing (<a href=\"/ref/stewart-r-2021-future-plants-abelia/\">Stewart 2021</a>).</p><hr/><h3 id=\"17597\">'Pink Lady'</h3><div class=\"uk-margin-small-top uk-text-small\"></div><p>A dwarf (<a href=\"https://www.cowellsgc.co.uk/abelia-x-grandiflora-pink-lady-1l\">selection</a>) with white-margined leaves, flushing pinkish; available in the UK by 2021.</p><hr/><h3 id=\"17598\">'Pleasant Surprise'</h3><div class=\"uk-margin-small-top uk-text-small\"><p class=\"uk-margin-small\"><b>Synonyms / alternative names</b><br/><i>Abelia</i> 'Pleasant Surprise'<br/></p></div><p>A seedling of <i>Abelia chinensis</i> raised in Georgia (USA), and a sister plant to ‘Canyon Creek’ and ‘Rose Creek’ (<a href=\"/ref/landrein-s-et-al-2017-untangling-the-reticulate-history-of-species-complexes-and-horticultural-breeds-in-abelia-caprifoli/\">Landrein <i>et al</i>. 2017</a>).</p><hr/><h3 id=\"17599\">'Prostrate White'</h3><div class=\"uk-margin-small-top uk-text-small\"><p class=\"uk-margin-small\"><b>Synonyms / alternative names</b><br/><i>Abelia</i> × <i>grandiflora</i> 'Prostrata'<br/></p></div><p>A form no more than 60 cm high, patented in 1955 by Delvin Abbott in the United States. The leaves flush showily reddish and redden after flowering, but even in California this is a more or less deciduous plant (<a href=\"/ref/hatch-l-c-2021-2022-hatchs-cultivars-of-woody-plants-2021-2022-edition/\">Hatch 2021–2022</a>).</p><hr/><h3 id=\"17600\">'Radiance'</h3><div class=\"uk-margin-small-top uk-text-small\"></div><p>A branch sport of ‘Kaleidoscope’ raised in North Carolina around 2010 by Randall Dale Lindsey, with cream-margined leaves, pure white flowers and a compact habit (<a href=\"/ref/hatch-l-c-2021-2022-hatchs-cultivars-of-woody-plants-2021-2022-edition/\">Hatch 2021–2022</a>).</p><hr/><h3 id=\"17570\">'Rika1'</h3><div class=\"uk-margin-small-top uk-text-small\"><p class=\"uk-margin-small\"><b>Synonyms / alternative names</b><br/><i>Abelia </i><span class=\"trade\">BRONZE ANNIVERSARY<sup>™</sup></span><br/></p></div><p>Bronze new leaves mature to golden; the white flowers (unlike those of most yellow-leaved Abelias) are fragrant (<a href=\"/ref/hatch-l-c-2021-2022-hatchs-cultivars-of-woody-plants-2021-2022-edition/\">Hatch 2021–2022</a>). <i>Abelia </i><span class=\"trade\">BRONZE ANNIVERSARY</span><sup><span class=\"trade\">™</span> </sup>was selected by Rika Bronsther in the United States in 2009, and appears to belong within <i>A</i>. × <i>grandiflora</i>.</p><hr/><h3 id=\"17601\">'Rose Creek'</h3><div class=\"uk-margin-small-top uk-text-small\"><p class=\"uk-margin-small\"><b>Synonyms / alternative names</b><br/><i>Abelia</i> 'Rose Creek'<br/></p></div><p>An open-pollinated seedling of <i>Abelia chinensis</i> raised in Georgia (USA) in 2001 and named by Mark Griffith after a creek in the State; a sister-plant to ‘Canyon Creek’ and ‘Flat Creek’, late-flowering and with showy reddish sepals (<a href=\"/ref/hatch-l-c-2021%E2%80%932022-hatchs-cultivars-of-woody-plants-2021%E2%80%932022-edition/\">Hatch 2021–2022</a>).</p><hr/><h3 id=\"17602\">'Semperflorens'</h3><div class=\"uk-margin-small-top uk-text-small\"></div><p>An old European selection with a long-lasting flowering period as its name suggests, and dark foliage tending to purple in autumn (<a href=\"/ref/hatch-l-c-2021-2022-hatchs-cultivars-of-woody-plants-2021-2022-edition/\">Hatch 2021–2022</a>).</p><hr/><h3 id=\"17603\">'Sherwoodii'</h3><div class=\"uk-margin-small-top uk-text-small\"><p class=\"uk-margin-small\"><b>Synonyms / alternative names</b><br/><i>Abelia</i> × <i>grandiflora</i> 'Sherwood'<br/><i>Abelia</i> × <i>grandiflora</i> 'Nana'<br/><i>Abelia zanderi</i> 'Sherwoodii'<br/></p></div><p>A compact small-leaved form, but shy-flowering, raised in 1949. In autumn, in the United States, the leaves turn purplish and are mostly shed (<a href=\"/ref/dirr-m-a-2009-manual-of-woody-landscape-plants/\">Dirr 2009</a>). The corolla has a distinctive basal spur (<a href=\"/ref/landrein-s-et-al-2017-untangling-the-reticulate-history-of-species-complexes-and-horticultural-breeds-in-abelia-caprifoli/\">Landrein <i>et al</i>. 2017</a>).</p><p>A plant patented in the USA as <span class=\"trade\">NANNO<sup>®</sup></span> may have represented the same clone (<a href=\"/ref/hatch-l-c-2021%E2%80%932022-hatchs-cultivars-of-woody-plants-2021%E2%80%932022-edition/\">Hatch 2021–2022</a>), however, plants sold as ‘Sherwoodii’ by (<a href=\"https://www.kelways.co.uk/product/abelia-x-grandiflora-sherwoodii/12355/\">Kelways</a>) in the UK and by (<a href=\"https://www.smgrowers.com/products/plants/plantdisplay.asp?plant_id=3\">San Marcos Growers</a>) in California is quite different, and may be <i>Abelia</i> ‘Francis Mason’.</p><hr/><h3 id=\"17604\">'Short and Sweet'</h3><div class=\"uk-margin-small-top uk-text-small\"></div><p>A sport of ‘Compacta’ raised in New South Wales, Australia, around 1999 (<a href=\"/ref/hatch-l-c-2021-2022-hatchs-cultivars-of-woody-plants-2021-2022-edition/\">Hatch 2021–2022</a>).</p><hr/><h3 id=\"17605\">'Snowdrift'</h3><div class=\"uk-margin-small-top uk-text-small\"></div><p>A form with pure white flowers and leaves margined in cream (<a href=\"/ref/hatch-l-c-2021-2022-hatchs-cultivars-of-woody-plants-2021-2022-edition/\">Hatch 2021–2022</a>), now sold in New Zealand.</p><hr/><h3 id=\"17606\">'Sparkling Silver'</h3><div class=\"uk-margin-small-top uk-text-small\"></div><p>A compact form with small silver-margined leaves which is now available in the (<a href=\"https://www.kelways.co.uk/product/abelia-sparkling-silver-3l/20445/\">UK</a>).</p><hr/><h3 id=\"17607\">'Sunrise'</h3><div class=\"uk-margin-small-top uk-text-small\"></div><p>A branch-sport from an <i>Abelia</i> × <i>grandiflora</i> raised at Taylor’s Nursery in North Carolina, with a narrow yellow to white marginal variegation but prone to revert. ‘Sunrise’ is considered the best variegated Abelia by Laurence Hatch (<a href=\"/ref/hatch-l-c-2021-2022-hatchs-cultivars-of-woody-plants-2021-2022-edition/\">Hatch 2021–2022</a>) but is rated poorly by Michael Dirr (<a href=\"/ref/dirr-m-a-2009-manual-of-woody-landscape-plants/\">Dirr 2009</a>), suggesting either that it is very unstable or that more than one clone is now sold under this name.</p><hr/><h3 id=\"17614\">'Tanya'</h3><div class=\"uk-margin-small-top uk-text-small\"></div><p>An obscure clone with pink flowers and central paler splash to its dark green (<a href=\"https://www.pinterest.ch/pin/565131453223313997/\">leaves</a>).</p><hr/><h3 id=\"17611\">'Wevo1'</h3><div class=\"uk-margin-small-top uk-text-small\"><p class=\"uk-margin-small\"><b>Synonyms / alternative names</b><br/><i>Abelia</i> × <i>grandiflora</i> <span class=\"trade\">TWIST OF VANILLA<sup>™</sup></span><br/></p></div><p>A recent American selection forming a low mound, with white-margined leaves and white flowers (<a href=\"/ref/stewart-r-2021-future-plants-abelia/\">Stewart 2021</a>).</p><hr/><h3 id=\"17591\">'Wevo2'</h3><div class=\"uk-margin-small-top uk-text-small\"><p class=\"uk-margin-small\"><b>Synonyms / alternative names</b><br/><i>Abelia</i> × <i>grandiflora</i> <span class=\"trade\">LUCKY LOTS<sup>PBR</sup></span><br/></p></div><p>A selection from Lendert de Vos in the Netherlands around 2010; a dwarf plant whose glossy dark foliage is tinged reddish (<a href=\"/ref/hatch-l-c-2021-2022-hatchs-cultivars-of-woody-plants-2021-2022-edition/\">Hatch 2021–2022</a>).</p><hr/><h3 id=\"17612\">'White Marvel'</h3><div class=\"uk-margin-small-top uk-text-small\"></div><p>A branch-sport of ‘Francis Mason’ raised by Katsuya Sakaue in Takarazuka, Japan, before 2002 and now available in the United States. Pink stems carry leaves with a creamy yellow margin which flush gold, or more orange on later growths (<a href=\"/ref/hatch-l-c-2021-2022-hatchs-cultivars-of-woody-plants-2021-2022-edition/\">Hatch 2021–2022</a>).</p></div>]"
      ]
     },
     "execution_count": 91,
     "metadata": {},
     "output_type": "execute_result"
    }
   ],
   "source": [
    "soup.find_all('div', class_=['uk-width-1-1', 'uk-width-1-2@l', 'tso-col-main'])"
   ]
  },
  {
   "cell_type": "code",
   "execution_count": 25,
   "id": "5599acf5-a7c7-4f9e-bc74-c8eb6c57c7f8",
   "metadata": {
    "tags": []
   },
   "outputs": [
    {
     "data": {
      "text/plain": [
       "58"
      ]
     },
     "execution_count": 25,
     "metadata": {},
     "output_type": "execute_result"
    }
   ],
   "source": [
    "soup.find_all('div', class_=['tso-col-main'])#[0].find_all(class_='uk-text-small')"
   ]
  },
  {
   "cell_type": "code",
   "execution_count": null,
   "id": "b3418e7a-2acc-401c-b996-e13f2e1e7141",
   "metadata": {},
   "outputs": [],
   "source": []
  },
  {
   "cell_type": "code",
   "execution_count": 86,
   "id": "70ae0b98-0ab4-43ad-91f9-15a42f061097",
   "metadata": {
    "tags": []
   },
   "outputs": [
    {
     "name": "stdout",
     "output_type": "stream",
     "text": [
      "Abelia × grandiflora 'Lake Maggiore' (Abbey Gardens, Bury St Edmunds, Suffolk, UK, August 2023). This is the classic clone, usually sold simply as Abelia × grandiflora. Image John Grimshaw.\n",
      "A semi-evergreen shrub to 2 m with arching stems. Shoots usually with dense reddish pubescence. Leaves 2.5–4.5 cm long, ovate, base cuneate and apex acute, glossy green above and sometimes bronzed, glabrous or with tufts of hair under the vein-axils, margin remotely serrate with unequal teeth. Flowers from summer into winter; calyx with 2–5 persistent lanceolate sepals to 1.8 cm long, often partly united, reddish purple. Corolla white to pale pink, funnel-shaped, c. 2 cm long, slightly fragrant, the lower lip bearded. Stamens nearly as long as the corolla tube; filaments sometimes slightly exserted, glabrous. Style slightly exserted, 1.7–1.8 cm, glabrous. Fruit September-November, 8–10 mm, slender, sparsely hairy or glabrous, with persistent sepals at the apex. (Flora of China 2021; Bean 1976).\n",
      "Habitat Garden origin, with possible hybrid forms occurring naturally in southern China\n",
      "USDA Hardiness Zone 5b\n",
      "RHS Hardiness Rating H6\n",
      "Awards AGM\n",
      "The common hybrid Abelia was first described by Édouard André from a seedling at the Rovelli Brothers’ nurseries in Pallanza, Italy, in 1886, which is assumed to have been a cross between Abelia uniflora (since lost to cultivation in the west) and A. chinensis, a floriferous species that was considered less hardy. The name ‘Lake Maggiore’ has recently been adopted to define plants which are assumed to derive from the original Rovelli cross, and this name was awarded the Royal Horticultural Society’s Award of Garden Merit in 2009. However, the same cross is likely to have occurred a number of times since the 1880s (Bean 1976), and the original form could even have been lost to cultivation.\n",
      "All these forms show hybrid vigour, making them probably the hardiest Abelias, though in the cold winters of the early 20th century plants at Kew could sometimes be killed to ground level (Bean 1976). Although the individual blooms are small these are also among the most floriferous Abelias, and the coloured, long-lasting sepals are particularly showy and contrast exquisitely with the especially glossy foliage. Abelia × grandiflora is now occasionally cultivated in China itself (Flora of China 2021); in the wild the two parents grow in the same region but seem not to interbreed, since A. chinensis occupies lower elevations and is confined to more open, rockier habitats (Landrein & Farjon 2020). Plants superficially resembling A. × grandiflora may however be found in the wild in the far south of China where there is a transition zone between A. chinensis (in its var. lipoensis) and A. macrotera (in its var. deutziaefolia) (Landrein & Farjon 2020). The herbarium collection Simmons 288, made in Guizhou, is suggested in the Flora of China (Flora of China 2021) to represent a wild form of A. × grandiflora, but is assigned to A. macrotera var. deutziaefolia by Landrein & Farjon (2020).\n",
      "Numerous clones of Abelia × grandiflora have been bred, particularly in the south-eastern United States. Many have brightly coloured, golden or variegated foliage, though the original hybrid’s contrast of white and maroon with glossy deep green is one on which it is hard to improve. Some other clones have been selected for their neat, compact habit, a feature which is less important in the climate of north-western Europe where this plant performs best against the shelter of a south-facing wall, and can be partially trained up the wall.\n",
      "Abelia × grandiflora 'Lake Maggiore' (Abbey Gardens, Bury St Edmunds, Suffolk, UK, August 2023). Image John Grimshaw.\n",
      "Abelia × grandiflora 'Rose Creek' on Battleston Hill at RHS Garden Wisley, 2nd September 2022. Image Tom Christian.\n",
      "It can be difficult to convey the overall beauty of abelias in photographs; this Abelia × grandiflora on Battleston Hill at RHS Garden Wisley was in full flower on 2nd September 2022, filling the air at this path junction with its perfume. Image Tom Christian.\n",
      "Abelia × grandiflora on Battleston Hill; their details are much better subjects for the camera than whole-plant portraits. This plant was labelled 'Francis Mason' but exhibits few of the characters associated with that clone. 2nd September 2022. Image Tom Christian.\n",
      "Abelia × grandiflora 'Rose Creek' on Battleston Hill at RHS Garden Wisley, 2nd September 2022. Image Tom Christian.\n",
      "'Abelops'\n",
      "Synonyms / alternative names\n",
      "Abelia × grandiflora SUNSHINE DAYDREAM®\n",
      "A hardy selection released by Balls Ornamentals in the United States in 2012, combining a yellow marginal variegation with a rich reddish flush; new leaves through the season are tipped wtih dark red and edged in pink, creating a tricoloured effect. It forms a mound to one metre hight, but some pruning may be needed (Hatch 2021–2022).\n",
      "'Abghop'\n",
      "Synonyms / alternative names\n",
      "Abelia × grandiflora TWIST OF LIME™\n",
      "Abelia × grandiflora HOPLEYS™\n",
      "Awards\n",
      "AGM\n",
      "A sport of ‘Francis Mason’ raised at Hopley’s Nursery in Hertfordshire, UK around 1992 and now widely available. The yellow-margined and pale-splashed leaves turn pinkish in autumn and the clone is said to be more floriferous than its parent, and less inclined to revert than rival selections such as the Gold Spot Group (Hatch 2021–2022). Plants sold as Abelia × grandiflora TWIST OF LIME™ are questionably different, with a greener centre to the leaf and paler pink flowers (Hatch 2021–2022).\n",
      "'Abhfgold'\n",
      "Synonyms / alternative names\n",
      "Abelia × grandiflora GOLD JEWEL®\n",
      "Abelia × grandiflora 'Little Gold'\n",
      "Yellow leaves turning coppery in winter. Released in 2020 (Royal Horticultural Society 2020).\n",
      "'Brmgold'\n",
      "Synonyms / alternative names\n",
      "Abelia × grandiflora GOLD TOUCH®\n",
      "A compact form from (Sapho) in France with red stems and golden leaves that flush coppery and bronze in winter.\n",
      "'Brockhill Allgold'\n",
      "A sport with yellow foliage and white flowers, presumably raised at Brockhill Nurseries in Hampshire and now sold around the UK (Royal Horticultural Society 2021).\n",
      "'Canyon Creek'\n",
      "Synonyms / alternative names\n",
      "Abelia 'Canyon Creek'\n",
      "Awards\n",
      "AGM\n",
      "‘Canyon Creek’ was one of eight seedlings of Abelia chinensis with yellow foliage, selected by Michael Dirr in 2002 (Dirr 2009). In a hot American summer the leaves can turn green, before they bronze or redden in winter. ‘Canyon Creek’ is sometimes described as an unassigned Abelia cultivar; the appearance of the small-flowered plant now sold under this name strongly suggests that A. × grandiflora was the male parent, though Dirr’s original description of pink flowers of huge size (up to 5 cm long) might be taken to imply some influence of A. schumannii.\n",
      "Coppery new growth of Abelia × grandiflora 'Canyon Creek' (Bluebell Arboretum and Nursery, Derbyshire, September 2022). Image John Grimshaw.\n",
      "Abelia × grandiflora 'Canyon Creek' (Bluebell Arboretum and Nursery, Derbyshire, September 2022). Image John Grimshaw.\n",
      "'Cloud 99'\n",
      "An assumed back-cross with A. chinensis, bred by Dr Carol Robacker at the University of Georgia (USA) (Dirr 2009) and noted as drought-tolerant. The flowers are white with green sepals which mature to pale pink.\n",
      "'Compacta'\n",
      "A low-growing form, though probably not as dwarf as ‘Sherwoodii’ (q.v.) (Hatch 2021–2022); any vigorous reverted shoots should be pruned out (Edwards & Marshall 2019). It flowers late in the season, and in the south-eastern United States is shy-flowering (Dirr 2009).\n",
      "'Conti'\n",
      "Synonyms / alternative names\n",
      "Abelia × grandiflora CONFETTIPBR\n",
      "A branch sport from ‘Sherwoodii’ raised in Alabama; an even smaller plant with small (2–2.5 cm long), narrower, sometimes twisted white-margined leaves, the variegation turning pink in winter (Dirr 2009). The flowers open almost pure white from reddish pink buds.\n",
      "'Copper Glow'\n",
      "A yellow-variegated clone with coppery new growths, sold in the UK by 1984 (Dirr 2009). It resembles ‘Francis Mason’, but was accepted as a cultivar by the Royal Horticultural Society in 2012 (Royal Horticultural Society 2021).\n",
      "'Flat Creek'\n",
      "An open-pollinated seedling of Abelia chinensis from the same group as ‘Canyon Creek’ and ‘Rose Creek’, named by Mark Griffith in Georgia (USA), with a compact habit (Dirr 2009).\n",
      "'Francis Mason'\n",
      "Synonyms / alternative names\n",
      "Abelia × grandiflora 'Variegata'\n",
      "The first and still the best-known variegated Abelia was raised at Mason’s Nurseries in New Zealand in the early 1950s; its leaves have a yellow margin with a yellowish-green centre, but darken in the summer heat of the south-eastern United States (Dirr 2009), and reversions are frequent. The foliage flushes bronze or pinkish. ‘Francis Mason’ is a vigorous and fertile plant which has contributed its genes to several more recent variegated clones.\n",
      "Abelia × grandiflora 'Francis Mason' (Bluebell Arboretum and Nursery, Derbyshire, September 2022). Image John Grimshaw.\n",
      "Abelia × grandiflora 'Francis Mason' (Bluebell Arboretum and Nursery, Derbyshire, September 2022). Image John Grimshaw.\n",
      "'Gold Spot'\n",
      "Synonyms / alternative names\n",
      "Abelia Gold Spot Group\n",
      "Abelia × grandiflora 'Aurea'\n",
      "Abelia × grandiflora 'Goldspot'\n",
      "Abelia × grandiflora 'Gold Strike'\n",
      "Abelia × grandiflora GOLDSPORT™\n",
      "Abelia × grandiflora 'Costin'\n",
      "A newer clone than the profusion of variant sale names might suggest; a sport of ‘Francis Mason’ with yellow foliage greening through summer and tending to bronze in winter, the golden margin broader than in ‘Golden Glow’ (Dirr 2009). The pinkish flowers are produced sparingly.\n",
      "'Golden Glow'\n",
      "A clone variously described as yellow-leaved or with yellow leaf-margins. It may be an unstable chimaera sported from ‘Francis Mason’ (Dirr 2009).\n",
      "'Goldenglossy'\n",
      "Synonyms / alternative names\n",
      "Abelia × grandiflora GOLD DUST™\n",
      "Abelia × grandiflora 'Goldenglory'\n",
      "A compact sport of ‘Sherwoodii’ found by Jerry Pittman in Alabama in 1996, with gold-margined leaves; the white flowers are sparingly produced (Dirr 2009).\n",
      "'John Creech'\n",
      "A selection made by John Creech in Maryland with dense and uniform growth (Dirr 2009), and one of the hardiest forms (Stewart 2021). Although ‘John Creech’ has white flowers with four or five sepals, Michael Dirr (Dirr 2009) suggests affinities to the ‘Edward Goucher’ group.\n",
      "'Kaleidoscope'\n",
      "A golden-leaved branch-sport of ‘Little Richard’, found by Randall Lindsay in North Carolina and sold in the United States by 2005 (Hatch 2021–2022). This is one of the brightest forms, its yellow foliage not greening in a hot summer and turning pinkish in autumn (Dirr 2009).\n",
      "Abelia × grandiflora 'Kaleidoscope' continuing to produce new shoots during an unusually warm autumn at Arboretum Gaston Allard, Angers, France. 7 October 2023. Image Tom Christian.\n",
      "'Keylib'\n",
      "Synonyms / alternative names\n",
      "Abelia × grandiflora LADY LIBERTY™\n",
      "A compact, white-flowered form selected by Klement Keyser in Germany around 2008 (Hatch 2021–2022).\n",
      "'Lake Maggiore'\n",
      "Awards\n",
      "AGM\n",
      "This clonal name has recently been adopted in the UK by the Royal Horticultural Society (Royal Horticultural Society 2021) for the ‘common’ green-leaved form of the cross, which was first made at the Rovelli Brothers nursery beside Lago Maggiore in northern Italy; the contrast of the white and dark red flowers with the rich glossy green of the foliage cannot necessarily be improved upon by any of the showily variegated clones which have since been selected. This green-lived population seems quite uniform in terms of quality and vigour, though, as Bean pointed out, the cross is likely to have occurred a number of times since the 1880s and ‘whether the plants cultivated today are from this or some other source is not known’ (Bean 1976).\n",
      "Abelia × grandiflora 'Lake Maggiore' (Abbey Gardens, Bury St Edmunds, Suffolk, UK, August 2023). Image John Grimshaw.\n",
      "'Little Richard'\n",
      "A sport of ‘Sherwoodii’ raised by Richard Currin in North Carolina before 1998; it makes a dense mound to 80 cm high and is floriferous and notably hardy (Hatch 2021–2022).\n",
      "'Mardi Gras'\n",
      "A cultivar with dark pink young stems and white-margined leaves with grey-green centres which pinken in autumn; selected by Rick Crowder in North Carolina in 2004 (Dirr 2009).\n",
      "'Mei-fu-hana-tsukubane-utsugi'\n",
      "A product of the breeding of Abelia × grandiflora in Japan, produced by H. Suda in 1976 by irradiating the clone ‘Hanozono-tsukubane-utsugi’, and available in the past in the United States: a dwarf but vigorous plant whose leaves have a bright yellow margin and a deep green centre (Hatch 2021–2022).\n",
      "'Minacara1'\n",
      "Synonyms / alternative names\n",
      "Abelia × grandiflora FUNSHINE®\n",
      "A recent production from Pépinières Minier in France, with yellow leaves flushing orange, and wide-mouthed pink (flowers), now also available in the United States. The flower shape and colour, with darker speckling in the throat and with reflexed lobes, suggests that A. schumannii may play a part in this cultivar’s ancestry, though it is marketed as a clone of A. × grandiflora.\n",
      "'Mincautri'\n",
      "Synonyms / alternative names\n",
      "Abelia × grandiflora TRICOLOUR CHARM™\n",
      "Abelia × grandiflora TRICOLOR CHARM®\n",
      "A recent (release) from Pépinières Minier in France; cream- and pink-variegated foliage is tinged yellow in spring. The flowers are white.\n",
      "'Minipan'\n",
      "Synonyms / alternative names\n",
      "Abelia × grandiflora GOLDEN ANNIVERSARY™\n",
      "Abelia × grandiflora GOLDEN PANACHEPBR\n",
      "Abelia × grandiflora 'Minpan'\n",
      "A sport of ‘Compacta’ raised by Pépinières Minier in France and sold in the United States by 2006, forming a low mound with gold-margined leaves (Dirr 2009). Laurence Hatch (Hatch 2021–2022) suggests that Abelia × grandiflora GOLDEN PANACHEPBR represents the same clone, and there is also confusion with Abelia × grandiflora SILVER PANACHEPBR.\n",
      "'Opstal103'\n",
      "Synonyms / alternative names\n",
      "Abelia × grandiflora MAGIC DAYDREAM®\n",
      "A recent (selection) from Ron van Opstal in Holland with white-margined leaves and a profusion of large pink-flushed flowers.\n",
      "'Opstal40'\n",
      "Synonyms / alternative names\n",
      "Abelia × grandiflora MYSTIC DAYDREAMPBR\n",
      "A compact, rather upright (selection) released in 2012 by Ron van Opstal in Holland.\n",
      "'Panache'\n",
      "Synonyms / alternative names\n",
      "Abelia × grandiflora SILVER ANNIVERSARY™\n",
      "Abelia × grandiflora 'Silver Panache'\n",
      "Abelia × grandiflora 'Panash'\n",
      "A compact plant with reddish stems, whose leaves are narrowly margined in pale grey, raised from ‘Prostrate White’ by Pépinières Minier in France (Hatch 2021–2022).\n",
      "'PIIAB-1'\n",
      "Synonyms / alternative names\n",
      "Abelia × grandiflora GOLDEN FLEECE™\n",
      "A compact gold-leaved clone raised by the University of Georgia’s breeding programme in the United States (Hatch 2021–2022), less likely than many similar forms to burn in hot sun, and quite fast-growing (Stewart 2021).\n",
      "'Pink Lady'\n",
      "A dwarf (selection) with white-margined leaves, flushing pinkish; available in the UK by 2021.\n",
      "'Pleasant Surprise'\n",
      "Synonyms / alternative names\n",
      "Abelia 'Pleasant Surprise'\n",
      "A seedling of Abelia chinensis raised in Georgia (USA), and a sister plant to ‘Canyon Creek’ and ‘Rose Creek’ (Landrein et al. 2017).\n",
      "'Prostrate White'\n",
      "Synonyms / alternative names\n",
      "Abelia × grandiflora 'Prostrata'\n",
      "A form no more than 60 cm high, patented in 1955 by Delvin Abbott in the United States. The leaves flush showily reddish and redden after flowering, but even in California this is a more or less deciduous plant (Hatch 2021–2022).\n",
      "'Radiance'\n",
      "A branch sport of ‘Kaleidoscope’ raised in North Carolina around 2010 by Randall Dale Lindsey, with cream-margined leaves, pure white flowers and a compact habit (Hatch 2021–2022).\n",
      "'Rika1'\n",
      "Synonyms / alternative names\n",
      "Abelia BRONZE ANNIVERSARY™\n",
      "Bronze new leaves mature to golden; the white flowers (unlike those of most yellow-leaved Abelias) are fragrant (Hatch 2021–2022). Abelia BRONZE ANNIVERSARY™ was selected by Rika Bronsther in the United States in 2009, and appears to belong within A. × grandiflora.\n",
      "'Rose Creek'\n",
      "Synonyms / alternative names\n",
      "Abelia 'Rose Creek'\n",
      "An open-pollinated seedling of Abelia chinensis raised in Georgia (USA) in 2001 and named by Mark Griffith after a creek in the State; a sister-plant to ‘Canyon Creek’ and ‘Flat Creek’, late-flowering and with showy reddish sepals (Hatch 2021–2022).\n",
      "'Semperflorens'\n",
      "An old European selection with a long-lasting flowering period as its name suggests, and dark foliage tending to purple in autumn (Hatch 2021–2022).\n",
      "'Sherwoodii'\n",
      "Synonyms / alternative names\n",
      "Abelia × grandiflora 'Sherwood'\n",
      "Abelia × grandiflora 'Nana'\n",
      "Abelia zanderi 'Sherwoodii'\n",
      "A compact small-leaved form, but shy-flowering, raised in 1949. In autumn, in the United States, the leaves turn purplish and are mostly shed (Dirr 2009). The corolla has a distinctive basal spur (Landrein et al. 2017).\n",
      "A plant patented in the USA as NANNO® may have represented the same clone (Hatch 2021–2022), however, plants sold as ‘Sherwoodii’ by (Kelways) in the UK and by (San Marcos Growers) in California is quite different, and may be Abelia ‘Francis Mason’.\n",
      "'Short and Sweet'\n",
      "A sport of ‘Compacta’ raised in New South Wales, Australia, around 1999 (Hatch 2021–2022).\n",
      "'Snowdrift'\n",
      "A form with pure white flowers and leaves margined in cream (Hatch 2021–2022), now sold in New Zealand.\n",
      "'Sparkling Silver'\n",
      "A compact form with small silver-margined leaves which is now available in the (UK).\n",
      "'Sunrise'\n",
      "A branch-sport from an Abelia × grandiflora raised at Taylor’s Nursery in North Carolina, with a narrow yellow to white marginal variegation but prone to revert. ‘Sunrise’ is considered the best variegated Abelia by Laurence Hatch (Hatch 2021–2022) but is rated poorly by Michael Dirr (Dirr 2009), suggesting either that it is very unstable or that more than one clone is now sold under this name.\n",
      "'Tanya'\n",
      "An obscure clone with pink flowers and central paler splash to its dark green (leaves).\n",
      "'Wevo1'\n",
      "Synonyms / alternative names\n",
      "Abelia × grandiflora TWIST OF VANILLA™\n",
      "A recent American selection forming a low mound, with white-margined leaves and white flowers (Stewart 2021).\n",
      "'Wevo2'\n",
      "Synonyms / alternative names\n",
      "Abelia × grandiflora LUCKY LOTSPBR\n",
      "A selection from Lendert de Vos in the Netherlands around 2010; a dwarf plant whose glossy dark foliage is tinged reddish (Hatch 2021–2022).\n",
      "'White Marvel'\n",
      "A branch-sport of ‘Francis Mason’ raised by Katsuya Sakaue in Takarazuka, Japan, before 2002 and now available in the United States. Pink stems carry leaves with a creamy yellow margin which flush gold, or more orange on later growths (Hatch 2021–2022).\n"
     ]
    }
   ],
   "source": [
    "print(element_main.text)"
   ]
  },
  {
   "cell_type": "code",
   "execution_count": null,
   "id": "98d13dfe-eaad-43b9-b7a7-b2f834ef8ded",
   "metadata": {},
   "outputs": [],
   "source": []
  }
 ],
 "metadata": {
  "kernelspec": {
   "display_name": "Python 3 (ipykernel)",
   "language": "python",
   "name": "python3"
  },
  "language_info": {
   "codemirror_mode": {
    "name": "ipython",
    "version": 3
   },
   "file_extension": ".py",
   "mimetype": "text/x-python",
   "name": "python",
   "nbconvert_exporter": "python",
   "pygments_lexer": "ipython3",
   "version": "3.10.12"
  }
 },
 "nbformat": 4,
 "nbformat_minor": 5
}
